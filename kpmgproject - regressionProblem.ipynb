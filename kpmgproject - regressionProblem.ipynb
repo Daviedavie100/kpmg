{
 "cells": [
  {
   "cell_type": "code",
   "execution_count": 364,
   "metadata": {},
   "outputs": [],
   "source": [
    "# Imports\n",
    "from datetime import datetime as dt\n",
    "import pandas as pd\n",
    "import seaborn as sns\n",
    "import matplotlib.pyplot as plt\n",
    "from sklearn.metrics import mean_squared_error, mean_absolute_error, r2_score\n",
    "from sklearn.model_selection import train_test_split\n",
    "from sklearn.preprocessing import StandardScaler\n",
    "from sklearn.linear_model import LinearRegression\n",
    "from sklearn.ensemble import RandomForestRegressor\n",
    "from sklearn.tree import DecisionTreeRegressor\n",
    "from sklearn.preprocessing import OneHotEncoder\n",
    "from sklearn.preprocessing import LabelEncoder\n",
    "from sklearn.compose import ColumnTransformer\n",
    "from sklearn.pipeline import Pipeline"
   ]
  },
  {
   "cell_type": "markdown",
   "metadata": {},
   "source": [
    "### Loading Datasets"
   ]
  },
  {
   "cell_type": "code",
   "execution_count": 365,
   "metadata": {},
   "outputs": [],
   "source": [
    "# file path\n",
    "file_path=\"C:/Users/Davie/Desktop/introduction-to-power-bi/\""
   ]
  },
  {
   "cell_type": "code",
   "execution_count": 366,
   "metadata": {},
   "outputs": [],
   "source": [
    "#load demographic data\n",
    "demographic=pd.read_excel(file_path+\"KPMG/KPMG_VI_New_raw_data_update_final.xlsx\",sheet_name='CustomerDemographic', index_col=False, header=0, usecols=\"A:M\", skiprows=1)"
   ]
  },
  {
   "cell_type": "code",
   "execution_count": 367,
   "metadata": {},
   "outputs": [],
   "source": [
    "#load customer address\n",
    "address=pd.read_excel(file_path+\"KPMG/KPMG_VI_New_raw_data_update_final.xlsx\",sheet_name='CustomerAddress', index_col=False, header=0, usecols=\"A:F\", skiprows=1)"
   ]
  },
  {
   "cell_type": "code",
   "execution_count": 368,
   "metadata": {},
   "outputs": [],
   "source": [
    "#load transaction data\n",
    "transactions=pd.read_excel(file_path+\"KPMG/KPMG_VI_New_raw_data_update_final.xlsx\",sheet_name='Transactions', index_col=False, header=0, usecols=\"A:M\", skiprows=1)"
   ]
  },
  {
   "cell_type": "code",
   "execution_count": 369,
   "metadata": {},
   "outputs": [],
   "source": [
    "#load transaction data\n",
    "new_customers=pd.read_excel(file_path+\"KPMG/KPMG_VI_New_raw_data_update_final.xlsx\",sheet_name='NewCustomerList', index_col=False, header=0, usecols=\"A:P\", skiprows=1)"
   ]
  },
  {
   "cell_type": "markdown",
   "metadata": {},
   "source": [
    "### Merging the datasets"
   ]
  },
  {
   "cell_type": "code",
   "execution_count": 370,
   "metadata": {},
   "outputs": [],
   "source": [
    "#merge demographic data with customer address\n",
    "demographic_address=pd.merge(demographic, address, on='customer_id', how='inner')"
   ]
  },
  {
   "cell_type": "code",
   "execution_count": 371,
   "metadata": {},
   "outputs": [],
   "source": [
    "#merged all the 3 datasets\n",
    "demographic_address_transactions=pd.merge(demographic_address, transactions, on='customer_id', how='inner')"
   ]
  },
  {
   "cell_type": "markdown",
   "metadata": {},
   "source": [
    "### Data Cleaning"
   ]
  },
  {
   "cell_type": "code",
   "execution_count": 372,
   "metadata": {},
   "outputs": [],
   "source": [
    "# Drop deceased persons\n",
    "df=demographic_address_transactions[demographic_address_transactions['deceased_indicator']=='N']"
   ]
  },
  {
   "cell_type": "code",
   "execution_count": 373,
   "metadata": {},
   "outputs": [],
   "source": [
    "# Drop duplicated customer ids\n",
    "data=df.dropna(how='any').drop_duplicates()"
   ]
  },
  {
   "cell_type": "code",
   "execution_count": 374,
   "metadata": {},
   "outputs": [],
   "source": [
    "new_customers.rename(columns={'past_3_years_bike_related_purchases': 'bikes_purchased'}, inplace=True)"
   ]
  },
  {
   "cell_type": "code",
   "execution_count": 375,
   "metadata": {},
   "outputs": [],
   "source": [
    "cus_data=new_customers[new_customers['deceased_indicator']=='N']"
   ]
  },
  {
   "cell_type": "markdown",
   "metadata": {},
   "source": [
    "### Feature engineering"
   ]
  },
  {
   "cell_type": "markdown",
   "metadata": {},
   "source": [
    "##### Target Customers"
   ]
  },
  {
   "cell_type": "code",
   "execution_count": 376,
   "metadata": {},
   "outputs": [],
   "source": [
    "# Calculate age\n",
    "\n",
    "# convert DOB to datetime\n",
    "cus_data['DOB']=pd.to_datetime(cus_data['DOB'], errors='coerce')\n",
    "# Get the current date\n",
    "current_date = pd.to_datetime('today')\n",
    "\n",
    "# Now you can safely calculate age\n",
    "cus_data['age'] = cus_data['DOB'].apply(lambda x: current_date.year - x.year - ((current_date.month, current_date.day) < (x.month, x.day)) if pd.notnull(x) else None)"
   ]
  },
  {
   "cell_type": "code",
   "execution_count": 377,
   "metadata": {},
   "outputs": [],
   "source": [
    "# Define age bins and labels\n",
    "bins = [0, 20, 30, 40, 50, 60, 70, 100]\n",
    "labels = ['<20','20-30','30-40','40-50','50-60','60-70', '>70']\n",
    "\n",
    "# Create age groups\n",
    "cus_data['age_group'] = pd.cut(cus_data['age'], bins=bins, labels=labels, right=False)"
   ]
  },
  {
   "cell_type": "code",
   "execution_count": 378,
   "metadata": {},
   "outputs": [],
   "source": [
    "# Define tenure ranges\n",
    "bins = [0, 5, 10, 15, 25]\n",
    "labels = ['<5','5-10', '10-15', '>15']\n",
    "\n",
    "# Create age groups\n",
    "cus_data['tenure_period'] = pd.cut(cus_data['tenure'], bins=bins, labels=labels, right=False)"
   ]
  },
  {
   "cell_type": "code",
   "execution_count": 379,
   "metadata": {},
   "outputs": [],
   "source": [
    "# Define proterty valuation ranges\n",
    "bins = [0, 3, 6, 9, 13]\n",
    "labels = ['<3','3-6', '6-9', '>9']\n",
    "\n",
    "# Create age groups\n",
    "cus_data['valuation_category'] = pd.cut(cus_data['property_valuation'], bins=bins, labels=labels, right=False)"
   ]
  },
  {
   "cell_type": "code",
   "execution_count": 380,
   "metadata": {},
   "outputs": [],
   "source": [
    "cus_data_col=['first_name', 'last_name', 'gender', 'bikes_purchased','DOB', 'age', 'age_group', 'state',\n",
    "       'job_title', 'job_industry_category', 'wealth_segment', 'owns_car', 'tenure', 'tenure_period','property_valuation', 'valuation_category']"
   ]
  },
  {
   "cell_type": "code",
   "execution_count": 381,
   "metadata": {},
   "outputs": [],
   "source": [
    "targeted_new_customers=cus_data[cus_data_col].dropna(how='any').drop_duplicates()"
   ]
  },
  {
   "cell_type": "code",
   "execution_count": 382,
   "metadata": {},
   "outputs": [
    {
     "data": {
      "text/html": [
       "<div>\n",
       "<style scoped>\n",
       "    .dataframe tbody tr th:only-of-type {\n",
       "        vertical-align: middle;\n",
       "    }\n",
       "\n",
       "    .dataframe tbody tr th {\n",
       "        vertical-align: top;\n",
       "    }\n",
       "\n",
       "    .dataframe thead th {\n",
       "        text-align: right;\n",
       "    }\n",
       "</style>\n",
       "<table border=\"1\" class=\"dataframe\">\n",
       "  <thead>\n",
       "    <tr style=\"text-align: right;\">\n",
       "      <th></th>\n",
       "      <th>first_name</th>\n",
       "      <th>last_name</th>\n",
       "      <th>gender</th>\n",
       "      <th>bikes_purchased</th>\n",
       "      <th>DOB</th>\n",
       "      <th>age</th>\n",
       "      <th>age_group</th>\n",
       "      <th>state</th>\n",
       "      <th>job_title</th>\n",
       "      <th>job_industry_category</th>\n",
       "      <th>wealth_segment</th>\n",
       "      <th>owns_car</th>\n",
       "      <th>tenure</th>\n",
       "      <th>tenure_period</th>\n",
       "      <th>property_valuation</th>\n",
       "      <th>valuation_category</th>\n",
       "    </tr>\n",
       "  </thead>\n",
       "  <tbody>\n",
       "    <tr>\n",
       "      <th>0</th>\n",
       "      <td>Chickie</td>\n",
       "      <td>Brister</td>\n",
       "      <td>Male</td>\n",
       "      <td>86</td>\n",
       "      <td>1957-07-12</td>\n",
       "      <td>66.0</td>\n",
       "      <td>60-70</td>\n",
       "      <td>QLD</td>\n",
       "      <td>General Manager</td>\n",
       "      <td>Manufacturing</td>\n",
       "      <td>Mass Customer</td>\n",
       "      <td>Yes</td>\n",
       "      <td>14</td>\n",
       "      <td>10-15</td>\n",
       "      <td>6</td>\n",
       "      <td>6-9</td>\n",
       "    </tr>\n",
       "    <tr>\n",
       "      <th>1</th>\n",
       "      <td>Morly</td>\n",
       "      <td>Genery</td>\n",
       "      <td>Male</td>\n",
       "      <td>69</td>\n",
       "      <td>1970-03-22</td>\n",
       "      <td>54.0</td>\n",
       "      <td>50-60</td>\n",
       "      <td>NSW</td>\n",
       "      <td>Structural Engineer</td>\n",
       "      <td>Property</td>\n",
       "      <td>Mass Customer</td>\n",
       "      <td>No</td>\n",
       "      <td>16</td>\n",
       "      <td>&gt;15</td>\n",
       "      <td>11</td>\n",
       "      <td>&gt;9</td>\n",
       "    </tr>\n",
       "    <tr>\n",
       "      <th>2</th>\n",
       "      <td>Ardelis</td>\n",
       "      <td>Forrester</td>\n",
       "      <td>Female</td>\n",
       "      <td>10</td>\n",
       "      <td>1974-08-28</td>\n",
       "      <td>49.0</td>\n",
       "      <td>40-50</td>\n",
       "      <td>VIC</td>\n",
       "      <td>Senior Cost Accountant</td>\n",
       "      <td>Financial Services</td>\n",
       "      <td>Affluent Customer</td>\n",
       "      <td>No</td>\n",
       "      <td>10</td>\n",
       "      <td>10-15</td>\n",
       "      <td>5</td>\n",
       "      <td>3-6</td>\n",
       "    </tr>\n",
       "    <tr>\n",
       "      <th>3</th>\n",
       "      <td>Lucine</td>\n",
       "      <td>Stutt</td>\n",
       "      <td>Female</td>\n",
       "      <td>64</td>\n",
       "      <td>1979-01-28</td>\n",
       "      <td>45.0</td>\n",
       "      <td>40-50</td>\n",
       "      <td>QLD</td>\n",
       "      <td>Account Representative III</td>\n",
       "      <td>Manufacturing</td>\n",
       "      <td>Affluent Customer</td>\n",
       "      <td>Yes</td>\n",
       "      <td>5</td>\n",
       "      <td>5-10</td>\n",
       "      <td>1</td>\n",
       "      <td>&lt;3</td>\n",
       "    </tr>\n",
       "    <tr>\n",
       "      <th>4</th>\n",
       "      <td>Melinda</td>\n",
       "      <td>Hadlee</td>\n",
       "      <td>Female</td>\n",
       "      <td>34</td>\n",
       "      <td>1965-09-21</td>\n",
       "      <td>58.0</td>\n",
       "      <td>50-60</td>\n",
       "      <td>NSW</td>\n",
       "      <td>Financial Analyst</td>\n",
       "      <td>Financial Services</td>\n",
       "      <td>Affluent Customer</td>\n",
       "      <td>No</td>\n",
       "      <td>19</td>\n",
       "      <td>&gt;15</td>\n",
       "      <td>9</td>\n",
       "      <td>&gt;9</td>\n",
       "    </tr>\n",
       "  </tbody>\n",
       "</table>\n",
       "</div>"
      ],
      "text/plain": [
       "  first_name  last_name  gender  bikes_purchased        DOB   age age_group  \\\n",
       "0    Chickie    Brister    Male               86 1957-07-12  66.0     60-70   \n",
       "1      Morly     Genery    Male               69 1970-03-22  54.0     50-60   \n",
       "2    Ardelis  Forrester  Female               10 1974-08-28  49.0     40-50   \n",
       "3     Lucine      Stutt  Female               64 1979-01-28  45.0     40-50   \n",
       "4    Melinda     Hadlee  Female               34 1965-09-21  58.0     50-60   \n",
       "\n",
       "  state                   job_title job_industry_category     wealth_segment  \\\n",
       "0   QLD             General Manager         Manufacturing      Mass Customer   \n",
       "1   NSW         Structural Engineer              Property      Mass Customer   \n",
       "2   VIC      Senior Cost Accountant    Financial Services  Affluent Customer   \n",
       "3   QLD  Account Representative III         Manufacturing  Affluent Customer   \n",
       "4   NSW           Financial Analyst    Financial Services  Affluent Customer   \n",
       "\n",
       "  owns_car  tenure tenure_period  property_valuation valuation_category  \n",
       "0      Yes      14         10-15                   6                6-9  \n",
       "1       No      16           >15                  11                 >9  \n",
       "2       No      10         10-15                   5                3-6  \n",
       "3      Yes       5          5-10                   1                 <3  \n",
       "4       No      19           >15                   9                 >9  "
      ]
     },
     "execution_count": 382,
     "metadata": {},
     "output_type": "execute_result"
    }
   ],
   "source": [
    "targeted_new_customers.head()"
   ]
  },
  {
   "cell_type": "markdown",
   "metadata": {},
   "source": [
    "##### Training dataset"
   ]
  },
  {
   "cell_type": "code",
   "execution_count": 383,
   "metadata": {},
   "outputs": [],
   "source": [
    "#calculate product margin\n",
    "data['product_margin']=(data['list_price']-data['standard_cost'])/data['list_price']"
   ]
  },
  {
   "cell_type": "code",
   "execution_count": 384,
   "metadata": {},
   "outputs": [],
   "source": [
    "\n",
    "# Calculate age\n",
    "\n",
    "# convert DOB to datetime\n",
    "data['DOB']=pd.to_datetime(data['DOB'], errors='coerce')\n",
    "# Get the current date\n",
    "current_date = pd.to_datetime('today')\n",
    "\n",
    "# Now you can safely calculate age\n",
    "data['age'] = data['DOB'].apply(lambda x: current_date.year - x.year - ((current_date.month, current_date.day) < (x.month, x.day)) if pd.notnull(x) else None)"
   ]
  },
  {
   "cell_type": "code",
   "execution_count": 385,
   "metadata": {},
   "outputs": [],
   "source": [
    "# Define age bins and labels\n",
    "bins = [0, 20, 30, 40, 50, 60, 70, 100]\n",
    "labels = ['<20','20-30','30-40','40-50','50-60','60-70', '>70']\n",
    "\n",
    "# Create age groups\n",
    "data['age_group'] = pd.cut(data['age'], bins=bins, labels=labels, right=False)"
   ]
  },
  {
   "cell_type": "code",
   "execution_count": 386,
   "metadata": {},
   "outputs": [],
   "source": [
    "# Date of transaction\n",
    "data['transaction_date'] = pd.to_datetime(data['transaction_date'])\n",
    "\n",
    "# Extract the daya, monthand year from transaction_date\n",
    "data['trans_day'] = data['transaction_date'].dt.day\n",
    "data['trans_month'] = data['transaction_date'].dt.month"
   ]
  },
  {
   "cell_type": "code",
   "execution_count": 387,
   "metadata": {},
   "outputs": [],
   "source": [
    "# Replace values for gender and state in the entire DataFrame\n",
    "data['gender'] = data['gender'].replace({'Femal': 'Female', 'F': 'Female'})\n",
    "data['state']=data['state'].replace({'New South Wales':'NSW','Victoria':'VIC'})"
   ]
  },
  {
   "cell_type": "code",
   "execution_count": 388,
   "metadata": {},
   "outputs": [],
   "source": [
    "# Define tenure ranges\n",
    "bins = [0, 5, 10, 15, 25]\n",
    "labels = ['<5','5-10', '10-15', '>15']\n",
    "\n",
    "# Create age groups\n",
    "data['tenure_period'] = pd.cut(data['tenure'], bins=bins, labels=labels, right=False)"
   ]
  },
  {
   "cell_type": "code",
   "execution_count": 389,
   "metadata": {},
   "outputs": [],
   "source": [
    "# Define proterty valuation ranges\n",
    "bins = [0, 3, 6, 9, 13]\n",
    "labels = ['<3','3-6', '6-9', '>9']\n",
    "\n",
    "# Create age groups\n",
    "data['valuation_category'] = pd.cut(data['property_valuation'], bins=bins, labels=labels, right=False)"
   ]
  },
  {
   "cell_type": "code",
   "execution_count": 405,
   "metadata": {},
   "outputs": [],
   "source": [
    "data.rename(columns={'past_3_years_bike_related_purchases':'bikes_purchased'},inplace=True)"
   ]
  },
  {
   "cell_type": "code",
   "execution_count": 414,
   "metadata": {},
   "outputs": [],
   "source": [
    "# Distribution datasets\n",
    "historical_data=data.copy().drop_duplicates(subset='customer_id').dropna(how='any')\n",
    "target_data=targeted_new_customers.copy()"
   ]
  },
  {
   "cell_type": "markdown",
   "metadata": {},
   "source": [
    "### Distribution for Bikes Purchased to be used as the target variable"
   ]
  },
  {
   "cell_type": "code",
   "execution_count": 415,
   "metadata": {},
   "outputs": [
    {
     "data": {
      "text/plain": [
       "<Axes: ylabel='Frequency'>"
      ]
     },
     "execution_count": 415,
     "metadata": {},
     "output_type": "execute_result"
    },
    {
     "data": {
      "image/png": "[encoded data removed]",
      "text/plain": [
       "<Figure size 640x480 with 1 Axes>"
      ]
     },
     "metadata": {},
     "output_type": "display_data"
    }
   ],
   "source": [
    "# Histogram\n",
    "\n",
    "historical_data['bikes_purchased'].plot.hist(bins=50)"
   ]
  },
  {
   "cell_type": "code",
   "execution_count": 417,
   "metadata": {},
   "outputs": [
    {
     "name": "stdout",
     "output_type": "stream",
     "text": [
      "Summary Statistics: 49.20808254514188, 48.0, 0    2\n",
      "Name: bikes_purchased, dtype: int64, 0, 99\n"
     ]
    }
   ],
   "source": [
    "mean=historical_data['bikes_purchased'].mean()\n",
    "median=historical_data['bikes_purchased'].median()\n",
    "mode=historical_data['bikes_purchased'].mode()\n",
    "max=historical_data['bikes_purchased'].max()\n",
    "min=historical_data['bikes_purchased'].min()\n",
    "print(f'Summary Statistics: {mean}, {median}, {mode}, {min}, {max}')"
   ]
  },
  {
   "cell_type": "code",
   "execution_count": 403,
   "metadata": {},
   "outputs": [
    {
     "data": {
      "text/plain": [
       "<Axes: ylabel='Frequency'>"
      ]
     },
     "execution_count": 403,
     "metadata": {},
     "output_type": "execute_result"
    },
    {
     "data": {
      "image/png": "[encoded data removed]",
      "text/plain": [
       "<Figure size 640x480 with 1 Axes>"
      ]
     },
     "metadata": {},
     "output_type": "display_data"
    }
   ],
   "source": [
    "# histogram\n",
    "targeted_new_customers['bikes_purchased'].plot.hist(bins=50)"
   ]
  },
  {
   "cell_type": "code",
   "execution_count": 418,
   "metadata": {},
   "outputs": [
    {
     "name": "stdout",
     "output_type": "stream",
     "text": [
      "Summary Statistics: 49.806993006993004, 51.0, 0    60\n",
      "Name: bikes_purchased, dtype: int64, 0, 99\n"
     ]
    }
   ],
   "source": [
    "mean=target_data['bikes_purchased'].mean()\n",
    "median=target_data['bikes_purchased'].median()\n",
    "mode=target_data['bikes_purchased'].mode()\n",
    "max=target_data['bikes_purchased'].max()\n",
    "min=target_data['bikes_purchased'].min()\n",
    "print(f'Summary Statistics: {mean}, {median}, {mode}, {min}, {max}')"
   ]
  },
  {
   "cell_type": "markdown",
   "metadata": {},
   "source": [
    "### Columns"
   ]
  },
  {
   "cell_type": "code",
   "execution_count": 419,
   "metadata": {},
   "outputs": [
    {
     "data": {
      "text/plain": [
       "Index(['customer_id', 'first_name', 'last_name', 'gender', 'bikes_purchased',\n",
       "       'DOB', 'job_title', 'job_industry_category', 'wealth_segment',\n",
       "       'deceased_indicator', 'default', 'owns_car', 'tenure', 'address',\n",
       "       'postcode', 'state', 'country', 'property_valuation', 'transaction_id',\n",
       "       'product_id', 'transaction_date', 'online_order', 'order_status',\n",
       "       'brand', 'product_line', 'product_class', 'product_size', 'list_price',\n",
       "       'standard_cost', 'product_first_sold_date', 'product_margin', 'age',\n",
       "       'age_group', 'trans_day', 'trans_month', 'tenure_period',\n",
       "       'valuation_category'],\n",
       "      dtype='object')"
      ]
     },
     "execution_count": 419,
     "metadata": {},
     "output_type": "execute_result"
    }
   ],
   "source": [
    "# Check new columns for historical data\n",
    "data.columns"
   ]
  },
  {
   "cell_type": "code",
   "execution_count": 420,
   "metadata": {},
   "outputs": [
    {
     "data": {
      "text/plain": [
       "Index(['first_name', 'last_name', 'gender', 'bikes_purchased', 'DOB', 'age',\n",
       "       'age_group', 'state', 'job_title', 'job_industry_category',\n",
       "       'wealth_segment', 'owns_car', 'tenure', 'tenure_period',\n",
       "       'property_valuation', 'valuation_category'],\n",
       "      dtype='object')"
      ]
     },
     "execution_count": 420,
     "metadata": {},
     "output_type": "execute_result"
    }
   ],
   "source": [
    "# Check new columns for targeted data\n",
    "targeted_new_customers.columns"
   ]
  },
  {
   "cell_type": "code",
   "execution_count": 421,
   "metadata": {},
   "outputs": [],
   "source": [
    "# Select columns to use in the Model\n",
    "cols=['first_name', 'last_name', 'gender', 'bikes_purchased','DOB', 'age', 'age_group', 'state',\n",
    "       'job_title', 'job_industry_category', 'wealth_segment', 'owns_car', 'tenure', 'tenure_period','property_valuation', 'valuation_category'] # should be the same both datasets used"
   ]
  },
  {
   "cell_type": "markdown",
   "metadata": {},
   "source": [
    "#### Modelling Datasets"
   ]
  },
  {
   "cell_type": "code",
   "execution_count": 423,
   "metadata": {},
   "outputs": [
    {
     "data": {
      "text/html": [
       "<div>\n",
       "<style scoped>\n",
       "    .dataframe tbody tr th:only-of-type {\n",
       "        vertical-align: middle;\n",
       "    }\n",
       "\n",
       "    .dataframe tbody tr th {\n",
       "        vertical-align: top;\n",
       "    }\n",
       "\n",
       "    .dataframe thead th {\n",
       "        text-align: right;\n",
       "    }\n",
       "</style>\n",
       "<table border=\"1\" class=\"dataframe\">\n",
       "  <thead>\n",
       "    <tr style=\"text-align: right;\">\n",
       "      <th></th>\n",
       "      <th>first_name</th>\n",
       "      <th>last_name</th>\n",
       "      <th>gender</th>\n",
       "      <th>bikes_purchased</th>\n",
       "      <th>DOB</th>\n",
       "      <th>age</th>\n",
       "      <th>age_group</th>\n",
       "      <th>state</th>\n",
       "      <th>job_title</th>\n",
       "      <th>job_industry_category</th>\n",
       "      <th>wealth_segment</th>\n",
       "      <th>owns_car</th>\n",
       "      <th>tenure</th>\n",
       "      <th>tenure_period</th>\n",
       "      <th>property_valuation</th>\n",
       "      <th>valuation_category</th>\n",
       "    </tr>\n",
       "  </thead>\n",
       "  <tbody>\n",
       "    <tr>\n",
       "      <th>0</th>\n",
       "      <td>Laraine</td>\n",
       "      <td>Medendorp</td>\n",
       "      <td>Female</td>\n",
       "      <td>93</td>\n",
       "      <td>1953-10-12</td>\n",
       "      <td>70</td>\n",
       "      <td>&gt;70</td>\n",
       "      <td>NSW</td>\n",
       "      <td>Executive Secretary</td>\n",
       "      <td>Health</td>\n",
       "      <td>Mass Customer</td>\n",
       "      <td>Yes</td>\n",
       "      <td>11.0</td>\n",
       "      <td>10-15</td>\n",
       "      <td>10</td>\n",
       "      <td>&gt;9</td>\n",
       "    </tr>\n",
       "    <tr>\n",
       "      <th>1</th>\n",
       "      <td>Laraine</td>\n",
       "      <td>Medendorp</td>\n",
       "      <td>Female</td>\n",
       "      <td>93</td>\n",
       "      <td>1953-10-12</td>\n",
       "      <td>70</td>\n",
       "      <td>&gt;70</td>\n",
       "      <td>NSW</td>\n",
       "      <td>Executive Secretary</td>\n",
       "      <td>Health</td>\n",
       "      <td>Mass Customer</td>\n",
       "      <td>Yes</td>\n",
       "      <td>11.0</td>\n",
       "      <td>10-15</td>\n",
       "      <td>10</td>\n",
       "      <td>&gt;9</td>\n",
       "    </tr>\n",
       "    <tr>\n",
       "      <th>2</th>\n",
       "      <td>Laraine</td>\n",
       "      <td>Medendorp</td>\n",
       "      <td>Female</td>\n",
       "      <td>93</td>\n",
       "      <td>1953-10-12</td>\n",
       "      <td>70</td>\n",
       "      <td>&gt;70</td>\n",
       "      <td>NSW</td>\n",
       "      <td>Executive Secretary</td>\n",
       "      <td>Health</td>\n",
       "      <td>Mass Customer</td>\n",
       "      <td>Yes</td>\n",
       "      <td>11.0</td>\n",
       "      <td>10-15</td>\n",
       "      <td>10</td>\n",
       "      <td>&gt;9</td>\n",
       "    </tr>\n",
       "    <tr>\n",
       "      <th>3</th>\n",
       "      <td>Laraine</td>\n",
       "      <td>Medendorp</td>\n",
       "      <td>Female</td>\n",
       "      <td>93</td>\n",
       "      <td>1953-10-12</td>\n",
       "      <td>70</td>\n",
       "      <td>&gt;70</td>\n",
       "      <td>NSW</td>\n",
       "      <td>Executive Secretary</td>\n",
       "      <td>Health</td>\n",
       "      <td>Mass Customer</td>\n",
       "      <td>Yes</td>\n",
       "      <td>11.0</td>\n",
       "      <td>10-15</td>\n",
       "      <td>10</td>\n",
       "      <td>&gt;9</td>\n",
       "    </tr>\n",
       "    <tr>\n",
       "      <th>4</th>\n",
       "      <td>Laraine</td>\n",
       "      <td>Medendorp</td>\n",
       "      <td>Female</td>\n",
       "      <td>93</td>\n",
       "      <td>1953-10-12</td>\n",
       "      <td>70</td>\n",
       "      <td>&gt;70</td>\n",
       "      <td>NSW</td>\n",
       "      <td>Executive Secretary</td>\n",
       "      <td>Health</td>\n",
       "      <td>Mass Customer</td>\n",
       "      <td>Yes</td>\n",
       "      <td>11.0</td>\n",
       "      <td>10-15</td>\n",
       "      <td>10</td>\n",
       "      <td>&gt;9</td>\n",
       "    </tr>\n",
       "    <tr>\n",
       "      <th>...</th>\n",
       "      <td>...</td>\n",
       "      <td>...</td>\n",
       "      <td>...</td>\n",
       "      <td>...</td>\n",
       "      <td>...</td>\n",
       "      <td>...</td>\n",
       "      <td>...</td>\n",
       "      <td>...</td>\n",
       "      <td>...</td>\n",
       "      <td>...</td>\n",
       "      <td>...</td>\n",
       "      <td>...</td>\n",
       "      <td>...</td>\n",
       "      <td>...</td>\n",
       "      <td>...</td>\n",
       "      <td>...</td>\n",
       "    </tr>\n",
       "    <tr>\n",
       "      <th>12957</th>\n",
       "      <td>Danya</td>\n",
       "      <td>Burnyeat</td>\n",
       "      <td>Male</td>\n",
       "      <td>99</td>\n",
       "      <td>1986-04-25</td>\n",
       "      <td>38</td>\n",
       "      <td>30-40</td>\n",
       "      <td>NSW</td>\n",
       "      <td>Editor</td>\n",
       "      <td>Manufacturing</td>\n",
       "      <td>Mass Customer</td>\n",
       "      <td>Yes</td>\n",
       "      <td>19.0</td>\n",
       "      <td>&gt;15</td>\n",
       "      <td>9</td>\n",
       "      <td>&gt;9</td>\n",
       "    </tr>\n",
       "    <tr>\n",
       "      <th>12958</th>\n",
       "      <td>Danya</td>\n",
       "      <td>Burnyeat</td>\n",
       "      <td>Male</td>\n",
       "      <td>99</td>\n",
       "      <td>1986-04-25</td>\n",
       "      <td>38</td>\n",
       "      <td>30-40</td>\n",
       "      <td>NSW</td>\n",
       "      <td>Editor</td>\n",
       "      <td>Manufacturing</td>\n",
       "      <td>Mass Customer</td>\n",
       "      <td>Yes</td>\n",
       "      <td>19.0</td>\n",
       "      <td>&gt;15</td>\n",
       "      <td>9</td>\n",
       "      <td>&gt;9</td>\n",
       "    </tr>\n",
       "    <tr>\n",
       "      <th>12959</th>\n",
       "      <td>Thia</td>\n",
       "      <td>O'Day</td>\n",
       "      <td>Female</td>\n",
       "      <td>73</td>\n",
       "      <td>1986-05-03</td>\n",
       "      <td>38</td>\n",
       "      <td>30-40</td>\n",
       "      <td>VIC</td>\n",
       "      <td>Administrative Assistant IV</td>\n",
       "      <td>Manufacturing</td>\n",
       "      <td>Affluent Customer</td>\n",
       "      <td>Yes</td>\n",
       "      <td>18.0</td>\n",
       "      <td>&gt;15</td>\n",
       "      <td>5</td>\n",
       "      <td>3-6</td>\n",
       "    </tr>\n",
       "    <tr>\n",
       "      <th>12960</th>\n",
       "      <td>Thia</td>\n",
       "      <td>O'Day</td>\n",
       "      <td>Female</td>\n",
       "      <td>73</td>\n",
       "      <td>1986-05-03</td>\n",
       "      <td>38</td>\n",
       "      <td>30-40</td>\n",
       "      <td>VIC</td>\n",
       "      <td>Administrative Assistant IV</td>\n",
       "      <td>Manufacturing</td>\n",
       "      <td>Affluent Customer</td>\n",
       "      <td>Yes</td>\n",
       "      <td>18.0</td>\n",
       "      <td>&gt;15</td>\n",
       "      <td>5</td>\n",
       "      <td>3-6</td>\n",
       "    </tr>\n",
       "    <tr>\n",
       "      <th>12961</th>\n",
       "      <td>Thia</td>\n",
       "      <td>O'Day</td>\n",
       "      <td>Female</td>\n",
       "      <td>73</td>\n",
       "      <td>1986-05-03</td>\n",
       "      <td>38</td>\n",
       "      <td>30-40</td>\n",
       "      <td>VIC</td>\n",
       "      <td>Administrative Assistant IV</td>\n",
       "      <td>Manufacturing</td>\n",
       "      <td>Affluent Customer</td>\n",
       "      <td>Yes</td>\n",
       "      <td>18.0</td>\n",
       "      <td>&gt;15</td>\n",
       "      <td>5</td>\n",
       "      <td>3-6</td>\n",
       "    </tr>\n",
       "  </tbody>\n",
       "</table>\n",
       "<p>12962 rows × 16 columns</p>\n",
       "</div>"
      ],
      "text/plain": [
       "      first_name  last_name  gender  bikes_purchased        DOB  age  \\\n",
       "0        Laraine  Medendorp  Female               93 1953-10-12   70   \n",
       "1        Laraine  Medendorp  Female               93 1953-10-12   70   \n",
       "2        Laraine  Medendorp  Female               93 1953-10-12   70   \n",
       "3        Laraine  Medendorp  Female               93 1953-10-12   70   \n",
       "4        Laraine  Medendorp  Female               93 1953-10-12   70   \n",
       "...          ...        ...     ...              ...        ...  ...   \n",
       "12957      Danya   Burnyeat    Male               99 1986-04-25   38   \n",
       "12958      Danya   Burnyeat    Male               99 1986-04-25   38   \n",
       "12959       Thia      O'Day  Female               73 1986-05-03   38   \n",
       "12960       Thia      O'Day  Female               73 1986-05-03   38   \n",
       "12961       Thia      O'Day  Female               73 1986-05-03   38   \n",
       "\n",
       "      age_group state                    job_title job_industry_category  \\\n",
       "0           >70   NSW          Executive Secretary                Health   \n",
       "1           >70   NSW          Executive Secretary                Health   \n",
       "2           >70   NSW          Executive Secretary                Health   \n",
       "3           >70   NSW          Executive Secretary                Health   \n",
       "4           >70   NSW          Executive Secretary                Health   \n",
       "...         ...   ...                          ...                   ...   \n",
       "12957     30-40   NSW                       Editor         Manufacturing   \n",
       "12958     30-40   NSW                       Editor         Manufacturing   \n",
       "12959     30-40   VIC  Administrative Assistant IV         Manufacturing   \n",
       "12960     30-40   VIC  Administrative Assistant IV         Manufacturing   \n",
       "12961     30-40   VIC  Administrative Assistant IV         Manufacturing   \n",
       "\n",
       "          wealth_segment owns_car  tenure tenure_period  property_valuation  \\\n",
       "0          Mass Customer      Yes    11.0         10-15                  10   \n",
       "1          Mass Customer      Yes    11.0         10-15                  10   \n",
       "2          Mass Customer      Yes    11.0         10-15                  10   \n",
       "3          Mass Customer      Yes    11.0         10-15                  10   \n",
       "4          Mass Customer      Yes    11.0         10-15                  10   \n",
       "...                  ...      ...     ...           ...                 ...   \n",
       "12957      Mass Customer      Yes    19.0           >15                   9   \n",
       "12958      Mass Customer      Yes    19.0           >15                   9   \n",
       "12959  Affluent Customer      Yes    18.0           >15                   5   \n",
       "12960  Affluent Customer      Yes    18.0           >15                   5   \n",
       "12961  Affluent Customer      Yes    18.0           >15                   5   \n",
       "\n",
       "      valuation_category  \n",
       "0                     >9  \n",
       "1                     >9  \n",
       "2                     >9  \n",
       "3                     >9  \n",
       "4                     >9  \n",
       "...                  ...  \n",
       "12957                 >9  \n",
       "12958                 >9  \n",
       "12959                3-6  \n",
       "12960                3-6  \n",
       "12961                3-6  \n",
       "\n",
       "[12962 rows x 16 columns]"
      ]
     },
     "execution_count": 423,
     "metadata": {},
     "output_type": "execute_result"
    }
   ],
   "source": [
    "# Make copy of the data\n",
    "regression_model_data=data[cols].copy()\n",
    "regression_model_data.reset_index(drop=True, inplace=True)\n",
    "regression_model_data"
   ]
  },
  {
   "cell_type": "code",
   "execution_count": 424,
   "metadata": {},
   "outputs": [
    {
     "data": {
      "text/html": [
       "<div>\n",
       "<style scoped>\n",
       "    .dataframe tbody tr th:only-of-type {\n",
       "        vertical-align: middle;\n",
       "    }\n",
       "\n",
       "    .dataframe tbody tr th {\n",
       "        vertical-align: top;\n",
       "    }\n",
       "\n",
       "    .dataframe thead th {\n",
       "        text-align: right;\n",
       "    }\n",
       "</style>\n",
       "<table border=\"1\" class=\"dataframe\">\n",
       "  <thead>\n",
       "    <tr style=\"text-align: right;\">\n",
       "      <th></th>\n",
       "      <th>first_name</th>\n",
       "      <th>last_name</th>\n",
       "      <th>gender</th>\n",
       "      <th>bikes_purchased</th>\n",
       "      <th>DOB</th>\n",
       "      <th>age</th>\n",
       "      <th>age_group</th>\n",
       "      <th>state</th>\n",
       "      <th>job_title</th>\n",
       "      <th>job_industry_category</th>\n",
       "      <th>wealth_segment</th>\n",
       "      <th>owns_car</th>\n",
       "      <th>tenure</th>\n",
       "      <th>tenure_period</th>\n",
       "      <th>property_valuation</th>\n",
       "      <th>valuation_category</th>\n",
       "    </tr>\n",
       "  </thead>\n",
       "  <tbody>\n",
       "    <tr>\n",
       "      <th>0</th>\n",
       "      <td>Chickie</td>\n",
       "      <td>Brister</td>\n",
       "      <td>Male</td>\n",
       "      <td>86</td>\n",
       "      <td>1957-07-12</td>\n",
       "      <td>66.0</td>\n",
       "      <td>60-70</td>\n",
       "      <td>QLD</td>\n",
       "      <td>General Manager</td>\n",
       "      <td>Manufacturing</td>\n",
       "      <td>Mass Customer</td>\n",
       "      <td>Yes</td>\n",
       "      <td>14</td>\n",
       "      <td>10-15</td>\n",
       "      <td>6</td>\n",
       "      <td>6-9</td>\n",
       "    </tr>\n",
       "    <tr>\n",
       "      <th>1</th>\n",
       "      <td>Morly</td>\n",
       "      <td>Genery</td>\n",
       "      <td>Male</td>\n",
       "      <td>69</td>\n",
       "      <td>1970-03-22</td>\n",
       "      <td>54.0</td>\n",
       "      <td>50-60</td>\n",
       "      <td>NSW</td>\n",
       "      <td>Structural Engineer</td>\n",
       "      <td>Property</td>\n",
       "      <td>Mass Customer</td>\n",
       "      <td>No</td>\n",
       "      <td>16</td>\n",
       "      <td>&gt;15</td>\n",
       "      <td>11</td>\n",
       "      <td>&gt;9</td>\n",
       "    </tr>\n",
       "    <tr>\n",
       "      <th>2</th>\n",
       "      <td>Ardelis</td>\n",
       "      <td>Forrester</td>\n",
       "      <td>Female</td>\n",
       "      <td>10</td>\n",
       "      <td>1974-08-28</td>\n",
       "      <td>49.0</td>\n",
       "      <td>40-50</td>\n",
       "      <td>VIC</td>\n",
       "      <td>Senior Cost Accountant</td>\n",
       "      <td>Financial Services</td>\n",
       "      <td>Affluent Customer</td>\n",
       "      <td>No</td>\n",
       "      <td>10</td>\n",
       "      <td>10-15</td>\n",
       "      <td>5</td>\n",
       "      <td>3-6</td>\n",
       "    </tr>\n",
       "    <tr>\n",
       "      <th>3</th>\n",
       "      <td>Lucine</td>\n",
       "      <td>Stutt</td>\n",
       "      <td>Female</td>\n",
       "      <td>64</td>\n",
       "      <td>1979-01-28</td>\n",
       "      <td>45.0</td>\n",
       "      <td>40-50</td>\n",
       "      <td>QLD</td>\n",
       "      <td>Account Representative III</td>\n",
       "      <td>Manufacturing</td>\n",
       "      <td>Affluent Customer</td>\n",
       "      <td>Yes</td>\n",
       "      <td>5</td>\n",
       "      <td>5-10</td>\n",
       "      <td>1</td>\n",
       "      <td>&lt;3</td>\n",
       "    </tr>\n",
       "    <tr>\n",
       "      <th>4</th>\n",
       "      <td>Melinda</td>\n",
       "      <td>Hadlee</td>\n",
       "      <td>Female</td>\n",
       "      <td>34</td>\n",
       "      <td>1965-09-21</td>\n",
       "      <td>58.0</td>\n",
       "      <td>50-60</td>\n",
       "      <td>NSW</td>\n",
       "      <td>Financial Analyst</td>\n",
       "      <td>Financial Services</td>\n",
       "      <td>Affluent Customer</td>\n",
       "      <td>No</td>\n",
       "      <td>19</td>\n",
       "      <td>&gt;15</td>\n",
       "      <td>9</td>\n",
       "      <td>&gt;9</td>\n",
       "    </tr>\n",
       "    <tr>\n",
       "      <th>...</th>\n",
       "      <td>...</td>\n",
       "      <td>...</td>\n",
       "      <td>...</td>\n",
       "      <td>...</td>\n",
       "      <td>...</td>\n",
       "      <td>...</td>\n",
       "      <td>...</td>\n",
       "      <td>...</td>\n",
       "      <td>...</td>\n",
       "      <td>...</td>\n",
       "      <td>...</td>\n",
       "      <td>...</td>\n",
       "      <td>...</td>\n",
       "      <td>...</td>\n",
       "      <td>...</td>\n",
       "      <td>...</td>\n",
       "    </tr>\n",
       "    <tr>\n",
       "      <th>995</th>\n",
       "      <td>Ferdinand</td>\n",
       "      <td>Romanetti</td>\n",
       "      <td>Male</td>\n",
       "      <td>60</td>\n",
       "      <td>1959-10-07</td>\n",
       "      <td>64.0</td>\n",
       "      <td>60-70</td>\n",
       "      <td>NSW</td>\n",
       "      <td>Paralegal</td>\n",
       "      <td>Financial Services</td>\n",
       "      <td>Affluent Customer</td>\n",
       "      <td>No</td>\n",
       "      <td>9</td>\n",
       "      <td>5-10</td>\n",
       "      <td>7</td>\n",
       "      <td>6-9</td>\n",
       "    </tr>\n",
       "    <tr>\n",
       "      <th>996</th>\n",
       "      <td>Burk</td>\n",
       "      <td>Wortley</td>\n",
       "      <td>Male</td>\n",
       "      <td>22</td>\n",
       "      <td>2001-10-17</td>\n",
       "      <td>22.0</td>\n",
       "      <td>20-30</td>\n",
       "      <td>NSW</td>\n",
       "      <td>Senior Sales Associate</td>\n",
       "      <td>Health</td>\n",
       "      <td>Mass Customer</td>\n",
       "      <td>No</td>\n",
       "      <td>6</td>\n",
       "      <td>5-10</td>\n",
       "      <td>10</td>\n",
       "      <td>&gt;9</td>\n",
       "    </tr>\n",
       "    <tr>\n",
       "      <th>997</th>\n",
       "      <td>Melloney</td>\n",
       "      <td>Temby</td>\n",
       "      <td>Female</td>\n",
       "      <td>17</td>\n",
       "      <td>1954-10-05</td>\n",
       "      <td>69.0</td>\n",
       "      <td>60-70</td>\n",
       "      <td>QLD</td>\n",
       "      <td>Budget/Accounting Analyst IV</td>\n",
       "      <td>Financial Services</td>\n",
       "      <td>Affluent Customer</td>\n",
       "      <td>Yes</td>\n",
       "      <td>15</td>\n",
       "      <td>&gt;15</td>\n",
       "      <td>2</td>\n",
       "      <td>&lt;3</td>\n",
       "    </tr>\n",
       "    <tr>\n",
       "      <th>998</th>\n",
       "      <td>Dickie</td>\n",
       "      <td>Cubbini</td>\n",
       "      <td>Male</td>\n",
       "      <td>30</td>\n",
       "      <td>1952-12-17</td>\n",
       "      <td>71.0</td>\n",
       "      <td>&gt;70</td>\n",
       "      <td>QLD</td>\n",
       "      <td>Financial Advisor</td>\n",
       "      <td>Financial Services</td>\n",
       "      <td>Mass Customer</td>\n",
       "      <td>Yes</td>\n",
       "      <td>19</td>\n",
       "      <td>&gt;15</td>\n",
       "      <td>2</td>\n",
       "      <td>&lt;3</td>\n",
       "    </tr>\n",
       "    <tr>\n",
       "      <th>999</th>\n",
       "      <td>Sylas</td>\n",
       "      <td>Duffill</td>\n",
       "      <td>Male</td>\n",
       "      <td>56</td>\n",
       "      <td>1955-10-02</td>\n",
       "      <td>68.0</td>\n",
       "      <td>60-70</td>\n",
       "      <td>NSW</td>\n",
       "      <td>Staff Accountant IV</td>\n",
       "      <td>Property</td>\n",
       "      <td>Mass Customer</td>\n",
       "      <td>Yes</td>\n",
       "      <td>14</td>\n",
       "      <td>10-15</td>\n",
       "      <td>9</td>\n",
       "      <td>&gt;9</td>\n",
       "    </tr>\n",
       "  </tbody>\n",
       "</table>\n",
       "<p>715 rows × 16 columns</p>\n",
       "</div>"
      ],
      "text/plain": [
       "    first_name  last_name  gender  bikes_purchased        DOB   age age_group  \\\n",
       "0      Chickie    Brister    Male               86 1957-07-12  66.0     60-70   \n",
       "1        Morly     Genery    Male               69 1970-03-22  54.0     50-60   \n",
       "2      Ardelis  Forrester  Female               10 1974-08-28  49.0     40-50   \n",
       "3       Lucine      Stutt  Female               64 1979-01-28  45.0     40-50   \n",
       "4      Melinda     Hadlee  Female               34 1965-09-21  58.0     50-60   \n",
       "..         ...        ...     ...              ...        ...   ...       ...   \n",
       "995  Ferdinand  Romanetti    Male               60 1959-10-07  64.0     60-70   \n",
       "996       Burk    Wortley    Male               22 2001-10-17  22.0     20-30   \n",
       "997   Melloney      Temby  Female               17 1954-10-05  69.0     60-70   \n",
       "998     Dickie    Cubbini    Male               30 1952-12-17  71.0       >70   \n",
       "999      Sylas    Duffill    Male               56 1955-10-02  68.0     60-70   \n",
       "\n",
       "    state                     job_title job_industry_category  \\\n",
       "0     QLD               General Manager         Manufacturing   \n",
       "1     NSW           Structural Engineer              Property   \n",
       "2     VIC        Senior Cost Accountant    Financial Services   \n",
       "3     QLD    Account Representative III         Manufacturing   \n",
       "4     NSW             Financial Analyst    Financial Services   \n",
       "..    ...                           ...                   ...   \n",
       "995   NSW                     Paralegal    Financial Services   \n",
       "996   NSW        Senior Sales Associate                Health   \n",
       "997   QLD  Budget/Accounting Analyst IV    Financial Services   \n",
       "998   QLD             Financial Advisor    Financial Services   \n",
       "999   NSW           Staff Accountant IV              Property   \n",
       "\n",
       "        wealth_segment owns_car  tenure tenure_period  property_valuation  \\\n",
       "0        Mass Customer      Yes      14         10-15                   6   \n",
       "1        Mass Customer       No      16           >15                  11   \n",
       "2    Affluent Customer       No      10         10-15                   5   \n",
       "3    Affluent Customer      Yes       5          5-10                   1   \n",
       "4    Affluent Customer       No      19           >15                   9   \n",
       "..                 ...      ...     ...           ...                 ...   \n",
       "995  Affluent Customer       No       9          5-10                   7   \n",
       "996      Mass Customer       No       6          5-10                  10   \n",
       "997  Affluent Customer      Yes      15           >15                   2   \n",
       "998      Mass Customer      Yes      19           >15                   2   \n",
       "999      Mass Customer      Yes      14         10-15                   9   \n",
       "\n",
       "    valuation_category  \n",
       "0                  6-9  \n",
       "1                   >9  \n",
       "2                  3-6  \n",
       "3                   <3  \n",
       "4                   >9  \n",
       "..                 ...  \n",
       "995                6-9  \n",
       "996                 >9  \n",
       "997                 <3  \n",
       "998                 <3  \n",
       "999                 >9  \n",
       "\n",
       "[715 rows x 16 columns]"
      ]
     },
     "execution_count": 424,
     "metadata": {},
     "output_type": "execute_result"
    }
   ],
   "source": [
    "# Make copy of the data\n",
    "regression_target_data=targeted_new_customers[cols].copy()\n",
    "regression_model_data.reset_index(drop=True, inplace=True)\n",
    "regression_target_data"
   ]
  },
  {
   "cell_type": "markdown",
   "metadata": {},
   "source": [
    "### Encoding, Setting target and feature variables"
   ]
  },
  {
   "cell_type": "code",
   "execution_count": 426,
   "metadata": {},
   "outputs": [],
   "source": [
    "# Choose the encoding method based on the nature of your data and the requirements of your machine learning model. \n",
    "# One-hot encoding- is suitable when there is no ordinal relationship between categories\n",
    "# label encoding- is useful when there is an ordinal relationship between categories. \n",
    "# Label encoding for Ordinal Variables\n",
    "# ordinal_mapping_prod_size = {'small': 0, 'medium': 1, 'large': 2} \n",
    "# ordinal_data['product_size'] = ordinal_data['product_size'].map(ordinal_mapping_prod_size)\n",
    "\n",
    "#Always remember to handle unknown categories appropriately, especially when using one-hot encoding."
   ]
  },
  {
   "cell_type": "code",
   "execution_count": 425,
   "metadata": {},
   "outputs": [],
   "source": [
    "# I want to detertime customer demographic and product characteristics that influences bike purchase and identify \n",
    "# and target customers based on their demographic attributes\n",
    "# So since only less tha 1% of the customer did not buy bikes, it makes this a regression problem"
   ]
  },
  {
   "cell_type": "code",
   "execution_count": null,
   "metadata": {},
   "outputs": [],
   "source": [
    "# Define categorical columns and numerical columns\n",
    "categorical_features=['gender', 'bikes_purchased','age_group', 'state',\n",
    "       'job_title', 'job_industry_category', 'wealth_segment', 'owns_car', 'tenure_period', 'valuation_category']\n",
    "\n",
    "numerical_features = ['age', 'property_valuation', 'tenure'] \n",
    "\n",
    "# Initialize the LabelEncoder\n",
    "label_encoders = {col: LabelEncoder() for col in categorical_features}\n",
    "\n",
    "# Encode the regression model data columns\n",
    "for col in categorical_features:\n",
    "    regression_model_data[col] = label_encoders[col].fit_transform(regression_model_data[col])\n",
    "regression_model_data.reset_index(drop=True, inplace=True)\n",
    "\n",
    "# Encode the targeted new customer data columns\n",
    "for col in categorical_features:\n",
    "    regression_target_data[col] = label_encoders[col].fit_transform(regression_target_data[col])\n",
    "regression_target_data.reset_index(drop=True, inplace=True)"
   ]
  },
  {
   "cell_type": "markdown",
   "metadata": {},
   "source": [
    "### Preprocessing "
   ]
  },
  {
   "cell_type": "code",
   "execution_count": null,
   "metadata": {},
   "outputs": [],
   "source": [
    "# Preprocessing pipeline for numerical data\n",
    "numerical_transformer = StandardScaler()\n",
    "\n",
    "# Combine preprocessing steps for numerical columns\n",
    "preprocessor = ColumnTransformer(\n",
    "    transformers=[\n",
    "        ('num', numerical_transformer, numerical_features)\n",
    "    ],\n",
    "    remainder='passthrough'  # Keep all other columns as they are.\n",
    ")"
   ]
  },
  {
   "cell_type": "markdown",
   "metadata": {},
   "source": [
    "### Define Target and Feature variables"
   ]
  },
  {
   "cell_type": "code",
   "execution_count": null,
   "metadata": {},
   "outputs": [],
   "source": [
    "# Define the feature and the target variable for the historical data\n",
    "features_X = regression_model_data.drop(columns=['bikes_purchased','first_name', 'last_name','DOB' ]) \n",
    "target_y = regression_model_data['bikes_purchased']\n",
    "\n",
    "# Define the columns for customer target\n",
    "X_new_customers = regression_target_data[features_X.columns]\n",
    "\n",
    "# Split the data into training and testing sets\n",
    "X_train, X_test, y_train, y_test = train_test_split(features_X, target_y, test_size=0.3, random_state=42)"
   ]
  },
  {
   "cell_type": "markdown",
   "metadata": {},
   "source": [
    "### (a) Random Forest"
   ]
  },
  {
   "cell_type": "code",
   "execution_count": null,
   "metadata": {},
   "outputs": [],
   "source": [
    "# Create a pipeline with LogisticRegression\n",
    "model_ran = Pipeline(steps=[\n",
    "    ('preprocessor', preprocessor),\n",
    "    ('regressor', RandomForestRegressor(random_state=42))\n",
    "])"
   ]
  },
  {
   "cell_type": "code",
   "execution_count": null,
   "metadata": {},
   "outputs": [],
   "source": []
  },
  {
   "cell_type": "code",
   "execution_count": null,
   "metadata": {},
   "outputs": [],
   "source": [
    "# Train the model\n",
    "model_ran.fit(X_train, y_train)\n",
    "\n",
    "# Predict on the test set\n",
    "y_pred = model_ran.predict(X_test)\n",
    "\n",
    "# Evaluate the model\n",
    "mae=mean_absolute_error(y_test,y_pred)\n",
    "mse=mean_squared_error(y_test, y_pred)\n",
    "rmse = mean_squared_error(y_test, y_pred, squared=False) # rmse=mse*0.5\n",
    "r2 = r2_score(y_test, y_pred)\n",
    "\n",
    "print(f'Mean Absolute Error (MAE): {mae}')\n",
    "print(f'Mean Squared Error (MSE): {mse}')\n",
    "print(f'Root Mean Squared Error (RMSE): {rmse}')\n",
    "print(f'R_squraed (R_Squared): {r2}')"
   ]
  },
  {
   "cell_type": "markdown",
   "metadata": {},
   "source": [
    "### (b) Decission Tree"
   ]
  },
  {
   "cell_type": "code",
   "execution_count": null,
   "metadata": {},
   "outputs": [],
   "source": [
    "# Create a pipeline with DecisionTreeClassifier\n",
    "model_det = Pipeline(steps=[\n",
    "    ('preprocessor', preprocessor),\n",
    "    ('regressor', DecisionTreeRegressor(random_state=42))\n",
    "])"
   ]
  },
  {
   "cell_type": "code",
   "execution_count": null,
   "metadata": {},
   "outputs": [],
   "source": [
    "# Train the model\n",
    "model_det.fit(X_train, y_train)\n",
    "\n",
    "# Predict on the test set\n",
    "y_pred = model_det.predict(X_test)\n",
    "\n",
    "# Evaluate the model\n",
    "mae=mean_absolute_error(y_test,y_pred)\n",
    "mse=mean_squared_error(y_test, y_pred)\n",
    "rmse = mean_squared_error(y_test, y_pred, squared=False)\n",
    "r2 = r2_score(y_test, y_pred)\n",
    "\n",
    "print(f'Mean Absolute Error (MAE): {mae}')\n",
    "print(f'Mean Squared Error (MSE): {mse}')\n",
    "print(f'Root Mean Squared Error (RMSE): {rmse}')\n",
    "print(f'R_squraed (R_Squared): {r2}')"
   ]
  },
  {
   "cell_type": "markdown",
   "metadata": {},
   "source": [
    "### (c) Linear Regression"
   ]
  },
  {
   "cell_type": "code",
   "execution_count": 428,
   "metadata": {},
   "outputs": [],
   "source": [
    "# We want to determine which demographic and product characteristics influences bike purchases or make customer to purchase the bike"
   ]
  },
  {
   "cell_type": "code",
   "execution_count": null,
   "metadata": {},
   "outputs": [],
   "source": [
    "# Define the model pipeline\n",
    "model_lin = Pipeline(steps=[\n",
    "    ('preprocessor', preprocessor),\n",
    "    ('regressor', LinearRegression())\n",
    "])"
   ]
  },
  {
   "cell_type": "code",
   "execution_count": null,
   "metadata": {},
   "outputs": [],
   "source": [
    "# Train the model\n",
    "model_lin.fit(X_train, y_train)\n",
    "\n",
    "# Predict on the test set\n",
    "y_pred = model_lin.predict(X_test)\n",
    "\n",
    "# Evaluate the model\n",
    "mae=mean_absolute_error(y_test,y_pred)\n",
    "mse=mean_squared_error(y_test, y_pred)\n",
    "rmse = mean_squared_error(y_test, y_pred, squared=False)\n",
    "r2 = r2_score(y_test, y_pred)\n",
    "\n",
    "print(f'Mean Absolute Error (MAE): {mae}')\n",
    "print(f'Mean Squared Error (MSE): {mse}')\n",
    "print(f'Root Mean Squared Error (RMSE): {rmse}')\n",
    "print(f'R_squraed (R_Squared): {r2}')"
   ]
  },
  {
   "cell_type": "markdown",
   "metadata": {},
   "source": [
    "### Predictions base on the optimal model"
   ]
  },
  {
   "cell_type": "code",
   "execution_count": null,
   "metadata": {},
   "outputs": [],
   "source": [
    "# Make predictions on the new target customer dataset\n",
    "new_customer_predictions = model_ran.predict(X_new_customers)\n",
    "\n",
    "# Define a threshold for selecting customers\n",
    "threshold = 40  # Example threshold, adjust based on your business needs\n",
    "\n",
    "# Select customers whose predicted values exceed the threshold\n",
    "selected_customers = targeted_new_customers[new_customer_predictions > threshold]\n",
    "\n",
    "# Attach predictions to the selected customer DataFrame\n",
    "selected_customers = selected_customers.copy()  # Avoid SettingWithCopyWarning\n",
    "selected_customers['predicted_value'] = new_customer_predictions[new_customer_predictions > threshold]\n",
    "\n",
    "# Sort customers by their predicted probabilities\n",
    "target_customers=selected_customers.sort_values(by='predicted_value', ascending=False)\n",
    "\n",
    "# Save the selected customers to a CSV file (optional)\n",
    "target_customers.to_csv('selected_customers.csv', index=False)\n",
    "\n",
    "# Load selected customers data\n",
    "targeted_customers=pd.read_csv('selected_customers.csv')"
   ]
  },
  {
   "cell_type": "code",
   "execution_count": null,
   "metadata": {},
   "outputs": [],
   "source": [
    "target_customers"
   ]
  }
 ],
 "metadata": {
  "kernelspec": {
   "display_name": "uscholar_py3.6_env",
   "language": "python",
   "name": "python3"
  },
  "language_info": {
   "codemirror_mode": {
    "name": "ipython",
    "version": 3
   },
   "file_extension": ".py",
   "mimetype": "text/x-python",
   "name": "python",
   "nbconvert_exporter": "python",
   "pygments_lexer": "ipython3",
   "version": "3.11.5"
  }
 },
 "nbformat": 4,
 "nbformat_minor": 2
}
