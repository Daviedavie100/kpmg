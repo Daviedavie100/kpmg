{
 "cells": [
  {
   "cell_type": "code",
   "execution_count": 233,
   "metadata": {},
   "outputs": [],
   "source": [
    "#imports\n",
    "from datetime import datetime as dt\n",
    "\n",
    "import pandas as pd\n",
    "import seaborn as sns\n",
    "import matplotlib.pyplot as plt\n",
    "\n",
    "from sklearn.metrics import mean_squared_error, mean_absolute_error, r2_score\n",
    "\n",
    "from sklearn.ensemble import RandomForestClassifier, RandomForestRegressor\n",
    "from sklearn.metrics import accuracy_score, classification_report, confusion_matrix\n",
    "from sklearn.preprocessing import StandardScaler, LabelEncoder, FunctionTransformer\n",
    "from sklearn.tree import DecisionTreeClassifier\n",
    "\n",
    "from sklearn.model_selection import train_test_split\n",
    "from sklearn.preprocessing import StandardScaler\n",
    "from sklearn.linear_model import LinearRegression\n",
    "from sklearn.preprocessing import OneHotEncoder\n",
    "from sklearn.tree import DecisionTreeRegressor\n",
    "\n",
    "\n",
    "\n",
    "\n",
    "from sklearn.linear_model import LogisticRegression\n",
    "from sklearn.model_selection import train_test_split, GridSearchCV\n",
    "from sklearn.preprocessing import StandardScaler, OneHotEncoder\n",
    "\n",
    "from sklearn.preprocessing import LabelEncoder\n",
    "from sklearn.preprocessing import StandardScaler, OneHotEncoder, PowerTransformer\n",
    "\n",
    "\n",
    "from sklearn.model_selection import train_test_split, GridSearchCV\n",
    "from sklearn.preprocessing import StandardScaler, OneHotEncoder\n",
    "from sklearn.compose import ColumnTransformer\n",
    "from sklearn.pipeline import Pipeline\n",
    "from sklearn.linear_model import LogisticRegression\n",
    "from sklearn.metrics import accuracy_score, precision_score, recall_score, f1_score, roc_auc_score"
   ]
  },
  {
   "cell_type": "markdown",
   "metadata": {},
   "source": [
    "### Loading Datasets"
   ]
  },
  {
   "cell_type": "code",
   "execution_count": 234,
   "metadata": {},
   "outputs": [],
   "source": [
    "# file path\n",
    "file_path=\"C:/Users/Davie/Desktop/introduction-to-power-bi/\""
   ]
  },
  {
   "cell_type": "code",
   "execution_count": 235,
   "metadata": {},
   "outputs": [],
   "source": [
    "#load demographic data\n",
    "demographic=pd.read_excel(file_path+\"KPMG/KPMG_VI_New_raw_data_update_final.xlsx\",sheet_name='CustomerDemographic', index_col=False, header=0, usecols=\"A:M\", skiprows=1)"
   ]
  },
  {
   "cell_type": "code",
   "execution_count": 236,
   "metadata": {},
   "outputs": [],
   "source": [
    "#load customer address\n",
    "address=pd.read_excel(file_path+\"KPMG/KPMG_VI_New_raw_data_update_final.xlsx\",sheet_name='CustomerAddress', index_col=False, header=0, usecols=\"A:F\", skiprows=1)"
   ]
  },
  {
   "cell_type": "code",
   "execution_count": 237,
   "metadata": {},
   "outputs": [],
   "source": [
    "#load transaction data\n",
    "transactions=pd.read_excel(file_path+\"KPMG/KPMG_VI_New_raw_data_update_final.xlsx\",sheet_name='Transactions', index_col=False, header=0, usecols=\"A:M\", skiprows=1)"
   ]
  },
  {
   "cell_type": "markdown",
   "metadata": {},
   "source": [
    "### Merging the datasets"
   ]
  },
  {
   "cell_type": "code",
   "execution_count": 238,
   "metadata": {},
   "outputs": [],
   "source": [
    "#merge demographic data with customer address\n",
    "demographic_address=pd.merge(demographic, address, on='customer_id', how='inner')"
   ]
  },
  {
   "cell_type": "code",
   "execution_count": 239,
   "metadata": {},
   "outputs": [],
   "source": [
    "#merged all the 3 datasets\n",
    "demographic_address_transactions=pd.merge(demographic_address, transactions, on='customer_id', how='inner')"
   ]
  },
  {
   "cell_type": "markdown",
   "metadata": {},
   "source": [
    "### Data Cleaning"
   ]
  },
  {
   "cell_type": "code",
   "execution_count": 240,
   "metadata": {},
   "outputs": [],
   "source": [
    "# Drop deceased persons\n",
    "df=demographic_address_transactions[demographic_address_transactions['deceased_indicator']=='N']"
   ]
  },
  {
   "cell_type": "code",
   "execution_count": 241,
   "metadata": {},
   "outputs": [],
   "source": [
    "# Drop duplicated customer ids\n",
    "data=df.dropna(how='any').drop_duplicates(subset=['customer_id'])"
   ]
  },
  {
   "cell_type": "markdown",
   "metadata": {},
   "source": [
    "### Feature engineering"
   ]
  },
  {
   "cell_type": "code",
   "execution_count": 242,
   "metadata": {},
   "outputs": [],
   "source": [
    "#calculate product margin\n",
    "data['product_margin']=(data['list_price']-data['standard_cost'])/data['list_price']"
   ]
  },
  {
   "cell_type": "code",
   "execution_count": 243,
   "metadata": {},
   "outputs": [],
   "source": [
    "\n",
    "# Calculate age\n",
    "\n",
    "# convert DOB to datetime\n",
    "data['DOB']=pd.to_datetime(data['DOB'], errors='coerce')\n",
    "# Get the current date\n",
    "current_date = pd.to_datetime('today')\n",
    "\n",
    "# Now you can safely calculate age\n",
    "data['age'] = data['DOB'].apply(lambda x: current_date.year - x.year - ((current_date.month, current_date.day) < (x.month, x.day)) if pd.notnull(x) else None)"
   ]
  },
  {
   "cell_type": "code",
   "execution_count": 244,
   "metadata": {},
   "outputs": [],
   "source": [
    "# Define age bins and labels\n",
    "bins = [0, 20, 30, 40, 50, 60, 70, 100]\n",
    "labels = ['<20','20-30','30-40','40-50','50-60','60-70', '>70']\n",
    "\n",
    "# Create age groups\n",
    "data['age_group'] = pd.cut(data['age'], bins=bins, labels=labels, right=False)"
   ]
  },
  {
   "cell_type": "code",
   "execution_count": 245,
   "metadata": {},
   "outputs": [],
   "source": [
    "# Date of transaction\n",
    "data['transaction_date'] = pd.to_datetime(data['transaction_date'])\n",
    "\n",
    "# Extract the daya, monthand year from transaction_date\n",
    "data['trans_day'] = data['transaction_date'].dt.day\n",
    "data['trans_month'] = data['transaction_date'].dt.month"
   ]
  },
  {
   "cell_type": "code",
   "execution_count": 246,
   "metadata": {},
   "outputs": [],
   "source": [
    "# Replace values for gender and state in the entire DataFrame\n",
    "data['gender'] = data['gender'].replace({'Femal': 'Female', 'F': 'Female'})\n",
    "data['state']=data['state'].replace({'New South Wales':'NSW','Victoria':'VIC'})"
   ]
  },
  {
   "cell_type": "code",
   "execution_count": 247,
   "metadata": {},
   "outputs": [],
   "source": [
    "# Define tenure ranges\n",
    "bins = [0, 5, 10, 15, 25]\n",
    "labels = ['<5','5-10', '10-15', '>15']\n",
    "\n",
    "# Create age groups\n",
    "data['tenure_period'] = pd.cut(data['tenure'], bins=bins, labels=labels, right=False)"
   ]
  },
  {
   "cell_type": "code",
   "execution_count": 248,
   "metadata": {},
   "outputs": [],
   "source": [
    "# Define proterty valuation ranges\n",
    "bins = [0, 3, 6, 9, 13]\n",
    "labels = ['<3','3-6', '6-9', '>9']\n",
    "\n",
    "# Create age groups\n",
    "data['valuation_category'] = pd.cut(data['property_valuation'], bins=bins, labels=labels, right=False)"
   ]
  },
  {
   "cell_type": "markdown",
   "metadata": {},
   "source": [
    "### Distribution for Bikes Purchased to be used as the target variable"
   ]
  },
  {
   "cell_type": "code",
   "execution_count": 249,
   "metadata": {},
   "outputs": [
    {
     "data": {
      "text/plain": [
       "<Axes: ylabel='Frequency'>"
      ]
     },
     "execution_count": 249,
     "metadata": {},
     "output_type": "execute_result"
    },
    {
     "data": {
      "image/png": "[encoded data removed]",
      "text/plain": [
       "<Figure size 640x480 with 1 Axes>"
      ]
     },
     "metadata": {},
     "output_type": "display_data"
    }
   ],
   "source": [
    "# Histogram\n",
    "data['past_3_years_bike_related_purchases'].plot.hist(bins=50)"
   ]
  },
  {
   "cell_type": "code",
   "execution_count": 250,
   "metadata": {},
   "outputs": [
    {
     "data": {
      "text/plain": [
       "<Axes: >"
      ]
     },
     "execution_count": 250,
     "metadata": {},
     "output_type": "execute_result"
    },
    {
     "data": {
      "image/png": "[encoded data removed]",
      "text/plain": [
       "<Figure size 640x480 with 1 Axes>"
      ]
     },
     "metadata": {},
     "output_type": "display_data"
    }
   ],
   "source": [
    "# Box plot\n",
    "data['past_3_years_bike_related_purchases'].plot.box()"
   ]
  },
  {
   "cell_type": "markdown",
   "metadata": {},
   "source": [
    "### Columns"
   ]
  },
  {
   "cell_type": "code",
   "execution_count": 251,
   "metadata": {},
   "outputs": [],
   "source": [
    "data.rename(columns={'past_3_years_bike_related_purchases':'bikes_purchased'},inplace=True)"
   ]
  },
  {
   "cell_type": "code",
   "execution_count": 252,
   "metadata": {},
   "outputs": [
    {
     "data": {
      "text/plain": [
       "Index(['customer_id', 'first_name', 'last_name', 'gender', 'bikes_purchased',\n",
       "       'DOB', 'job_title', 'job_industry_category', 'wealth_segment',\n",
       "       'deceased_indicator', 'default', 'owns_car', 'tenure', 'address',\n",
       "       'postcode', 'state', 'country', 'property_valuation', 'transaction_id',\n",
       "       'product_id', 'transaction_date', 'online_order', 'order_status',\n",
       "       'brand', 'product_line', 'product_class', 'product_size', 'list_price',\n",
       "       'standard_cost', 'product_first_sold_date', 'product_margin', 'age',\n",
       "       'age_group', 'trans_day', 'trans_month', 'tenure_period',\n",
       "       'valuation_category'],\n",
       "      dtype='object')"
      ]
     },
     "execution_count": 252,
     "metadata": {},
     "output_type": "execute_result"
    }
   ],
   "source": [
    "# Check new columns\n",
    "data.columns"
   ]
  },
  {
   "cell_type": "code",
   "execution_count": 253,
   "metadata": {},
   "outputs": [],
   "source": [
    "# Select columns to use in the Model\n",
    "cols=['customer_id', 'gender','age_group', 'state', 'job_industry_category', 'job_title','online_order', 'order_status' ,'wealth_segment',  \n",
    "      'brand','product_line', 'product_class', 'product_size', 'tenure', 'tenure_period', 'bikes_purchased', \n",
    "      'valuation_category', 'property_valuation', 'product_margin']"
   ]
  },
  {
   "cell_type": "code",
   "execution_count": 254,
   "metadata": {},
   "outputs": [],
   "source": [
    "# Store cleaned data\n",
    "\n",
    "clean_data=data[cols]\n",
    "clean_data.to_csv('clean_data.csv', index=False)"
   ]
  },
  {
   "cell_type": "code",
   "execution_count": 255,
   "metadata": {},
   "outputs": [],
   "source": [
    "# Load the clean dataset\n",
    "\n",
    "clean_data=pd.read_csv('clean_data.csv')\n",
    "clean_data.dropna(how='any', inplace=True)"
   ]
  },
  {
   "cell_type": "markdown",
   "metadata": {},
   "source": [
    "### Encoding, Setting target and feature variables"
   ]
  },
  {
   "cell_type": "markdown",
   "metadata": {},
   "source": [
    "- Choose the encoding method based on the nature of your data and the requirements of your machine learning model. \n",
    "- `One-hot encoding` is suitable when there is no ordinal relationship between categories\n",
    "- `label encoding` is useful when there is an ordinal relationship between categories. \n",
    "- **Example**\n",
    "    - Label encoding for Ordinal Variables\n",
    "    - `ordinal_mapping_prod_size = {'small': 0, 'medium': 1, 'large': 2} #product size`\n",
    "    - `ordinal_data['product_size'] = ordinal_data['product_size'].map(ordinal_mapping_prod_size)`\n",
    "    - `data.reset_index(drop=True, inplace=True)`  # Reset index of X without adding it as a new column\n",
    "    - Select categorical columns `categorical_ordinal = ['product_class', 'product_size']`\n",
    "    - `model_data_class = pd.concat([data_c, encoded_data], axis=1)`\n",
    "    - Initialize LabelEncoder `label_encoder = LabelEncoder()`\n",
    "    - Apply Label Encoding to each column `for col in categorical_ordinal:data_clean[col] = label_encoder.fit_transform(data_clean[col])`\n",
    "- Always remember to handle unknown categories appropriately, especially when using one-hot encoding."
   ]
  },
  {
   "cell_type": "code",
   "execution_count": 256,
   "metadata": {},
   "outputs": [
    {
     "data": {
      "text/html": [
       "<div>\n",
       "<style scoped>\n",
       "    .dataframe tbody tr th:only-of-type {\n",
       "        vertical-align: middle;\n",
       "    }\n",
       "\n",
       "    .dataframe tbody tr th {\n",
       "        vertical-align: top;\n",
       "    }\n",
       "\n",
       "    .dataframe thead th {\n",
       "        text-align: right;\n",
       "    }\n",
       "</style>\n",
       "<table border=\"1\" class=\"dataframe\">\n",
       "  <thead>\n",
       "    <tr style=\"text-align: right;\">\n",
       "      <th></th>\n",
       "      <th>customer_id</th>\n",
       "      <th>gender</th>\n",
       "      <th>age_group</th>\n",
       "      <th>state</th>\n",
       "      <th>job_industry_category</th>\n",
       "      <th>job_title</th>\n",
       "      <th>online_order</th>\n",
       "      <th>order_status</th>\n",
       "      <th>wealth_segment</th>\n",
       "      <th>brand</th>\n",
       "      <th>product_line</th>\n",
       "      <th>product_class</th>\n",
       "      <th>product_size</th>\n",
       "      <th>tenure</th>\n",
       "      <th>tenure_period</th>\n",
       "      <th>bikes_purchased</th>\n",
       "      <th>valuation_category</th>\n",
       "      <th>property_valuation</th>\n",
       "      <th>product_margin</th>\n",
       "    </tr>\n",
       "  </thead>\n",
       "  <tbody>\n",
       "    <tr>\n",
       "      <th>0</th>\n",
       "      <td>1</td>\n",
       "      <td>Female</td>\n",
       "      <td>&gt;70</td>\n",
       "      <td>NSW</td>\n",
       "      <td>Health</td>\n",
       "      <td>Executive Secretary</td>\n",
       "      <td>0.0</td>\n",
       "      <td>Approved</td>\n",
       "      <td>Mass Customer</td>\n",
       "      <td>OHM Cycles</td>\n",
       "      <td>Standard</td>\n",
       "      <td>medium</td>\n",
       "      <td>medium</td>\n",
       "      <td>11.0</td>\n",
       "      <td>10-15</td>\n",
       "      <td>93</td>\n",
       "      <td>&gt;9</td>\n",
       "      <td>10</td>\n",
       "      <td>0.469210</td>\n",
       "    </tr>\n",
       "    <tr>\n",
       "      <th>1</th>\n",
       "      <td>2</td>\n",
       "      <td>Male</td>\n",
       "      <td>40-50</td>\n",
       "      <td>NSW</td>\n",
       "      <td>Financial Services</td>\n",
       "      <td>Administrative Officer</td>\n",
       "      <td>1.0</td>\n",
       "      <td>Approved</td>\n",
       "      <td>Mass Customer</td>\n",
       "      <td>Giant Bicycles</td>\n",
       "      <td>Standard</td>\n",
       "      <td>medium</td>\n",
       "      <td>medium</td>\n",
       "      <td>16.0</td>\n",
       "      <td>&gt;15</td>\n",
       "      <td>81</td>\n",
       "      <td>&gt;9</td>\n",
       "      <td>10</td>\n",
       "      <td>0.319686</td>\n",
       "    </tr>\n",
       "    <tr>\n",
       "      <th>2</th>\n",
       "      <td>9</td>\n",
       "      <td>Female</td>\n",
       "      <td>50-60</td>\n",
       "      <td>NSW</td>\n",
       "      <td>Argiculture</td>\n",
       "      <td>Business Systems Development Analyst</td>\n",
       "      <td>0.0</td>\n",
       "      <td>Approved</td>\n",
       "      <td>Affluent Customer</td>\n",
       "      <td>Solex</td>\n",
       "      <td>Standard</td>\n",
       "      <td>medium</td>\n",
       "      <td>large</td>\n",
       "      <td>8.0</td>\n",
       "      <td>5-10</td>\n",
       "      <td>97</td>\n",
       "      <td>&gt;9</td>\n",
       "      <td>12</td>\n",
       "      <td>0.308960</td>\n",
       "    </tr>\n",
       "    <tr>\n",
       "      <th>3</th>\n",
       "      <td>12</td>\n",
       "      <td>Male</td>\n",
       "      <td>20-30</td>\n",
       "      <td>QLD</td>\n",
       "      <td>Manufacturing</td>\n",
       "      <td>Nuclear Power Engineer</td>\n",
       "      <td>0.0</td>\n",
       "      <td>Approved</td>\n",
       "      <td>Mass Customer</td>\n",
       "      <td>Giant Bicycles</td>\n",
       "      <td>Standard</td>\n",
       "      <td>medium</td>\n",
       "      <td>large</td>\n",
       "      <td>8.0</td>\n",
       "      <td>5-10</td>\n",
       "      <td>58</td>\n",
       "      <td>3-6</td>\n",
       "      <td>4</td>\n",
       "      <td>0.678676</td>\n",
       "    </tr>\n",
       "    <tr>\n",
       "      <th>4</th>\n",
       "      <td>13</td>\n",
       "      <td>Male</td>\n",
       "      <td>60-70</td>\n",
       "      <td>VIC</td>\n",
       "      <td>Financial Services</td>\n",
       "      <td>Developer I</td>\n",
       "      <td>0.0</td>\n",
       "      <td>Approved</td>\n",
       "      <td>High Net Worth</td>\n",
       "      <td>Solex</td>\n",
       "      <td>Standard</td>\n",
       "      <td>medium</td>\n",
       "      <td>medium</td>\n",
       "      <td>8.0</td>\n",
       "      <td>5-10</td>\n",
       "      <td>38</td>\n",
       "      <td>6-9</td>\n",
       "      <td>6</td>\n",
       "      <td>0.493706</td>\n",
       "    </tr>\n",
       "    <tr>\n",
       "      <th>...</th>\n",
       "      <td>...</td>\n",
       "      <td>...</td>\n",
       "      <td>...</td>\n",
       "      <td>...</td>\n",
       "      <td>...</td>\n",
       "      <td>...</td>\n",
       "      <td>...</td>\n",
       "      <td>...</td>\n",
       "      <td>...</td>\n",
       "      <td>...</td>\n",
       "      <td>...</td>\n",
       "      <td>...</td>\n",
       "      <td>...</td>\n",
       "      <td>...</td>\n",
       "      <td>...</td>\n",
       "      <td>...</td>\n",
       "      <td>...</td>\n",
       "      <td>...</td>\n",
       "      <td>...</td>\n",
       "    </tr>\n",
       "    <tr>\n",
       "      <th>2321</th>\n",
       "      <td>3493</td>\n",
       "      <td>Male</td>\n",
       "      <td>60-70</td>\n",
       "      <td>NSW</td>\n",
       "      <td>Health</td>\n",
       "      <td>Research Assistant I</td>\n",
       "      <td>0.0</td>\n",
       "      <td>Approved</td>\n",
       "      <td>High Net Worth</td>\n",
       "      <td>Giant Bicycles</td>\n",
       "      <td>Standard</td>\n",
       "      <td>medium</td>\n",
       "      <td>large</td>\n",
       "      <td>18.0</td>\n",
       "      <td>&gt;15</td>\n",
       "      <td>30</td>\n",
       "      <td>&gt;9</td>\n",
       "      <td>10</td>\n",
       "      <td>0.598097</td>\n",
       "    </tr>\n",
       "    <tr>\n",
       "      <th>2322</th>\n",
       "      <td>3494</td>\n",
       "      <td>Male</td>\n",
       "      <td>20-30</td>\n",
       "      <td>NSW</td>\n",
       "      <td>Argiculture</td>\n",
       "      <td>Account Representative IV</td>\n",
       "      <td>1.0</td>\n",
       "      <td>Approved</td>\n",
       "      <td>High Net Worth</td>\n",
       "      <td>Giant Bicycles</td>\n",
       "      <td>Road</td>\n",
       "      <td>medium</td>\n",
       "      <td>medium</td>\n",
       "      <td>1.0</td>\n",
       "      <td>&lt;5</td>\n",
       "      <td>72</td>\n",
       "      <td>&gt;9</td>\n",
       "      <td>10</td>\n",
       "      <td>0.460913</td>\n",
       "    </tr>\n",
       "    <tr>\n",
       "      <th>2323</th>\n",
       "      <td>3495</td>\n",
       "      <td>Female</td>\n",
       "      <td>30-40</td>\n",
       "      <td>NSW</td>\n",
       "      <td>Financial Services</td>\n",
       "      <td>Programmer III</td>\n",
       "      <td>1.0</td>\n",
       "      <td>Approved</td>\n",
       "      <td>High Net Worth</td>\n",
       "      <td>Giant Bicycles</td>\n",
       "      <td>Standard</td>\n",
       "      <td>high</td>\n",
       "      <td>medium</td>\n",
       "      <td>8.0</td>\n",
       "      <td>5-10</td>\n",
       "      <td>57</td>\n",
       "      <td>&gt;9</td>\n",
       "      <td>9</td>\n",
       "      <td>0.400000</td>\n",
       "    </tr>\n",
       "    <tr>\n",
       "      <th>2324</th>\n",
       "      <td>3496</td>\n",
       "      <td>Male</td>\n",
       "      <td>30-40</td>\n",
       "      <td>NSW</td>\n",
       "      <td>Manufacturing</td>\n",
       "      <td>Editor</td>\n",
       "      <td>1.0</td>\n",
       "      <td>Approved</td>\n",
       "      <td>Mass Customer</td>\n",
       "      <td>Solex</td>\n",
       "      <td>Standard</td>\n",
       "      <td>medium</td>\n",
       "      <td>medium</td>\n",
       "      <td>19.0</td>\n",
       "      <td>&gt;15</td>\n",
       "      <td>99</td>\n",
       "      <td>&gt;9</td>\n",
       "      <td>9</td>\n",
       "      <td>0.828737</td>\n",
       "    </tr>\n",
       "    <tr>\n",
       "      <th>2325</th>\n",
       "      <td>3497</td>\n",
       "      <td>Female</td>\n",
       "      <td>30-40</td>\n",
       "      <td>VIC</td>\n",
       "      <td>Manufacturing</td>\n",
       "      <td>Administrative Assistant IV</td>\n",
       "      <td>1.0</td>\n",
       "      <td>Approved</td>\n",
       "      <td>Affluent Customer</td>\n",
       "      <td>Giant Bicycles</td>\n",
       "      <td>Standard</td>\n",
       "      <td>medium</td>\n",
       "      <td>medium</td>\n",
       "      <td>18.0</td>\n",
       "      <td>&gt;15</td>\n",
       "      <td>73</td>\n",
       "      <td>3-6</td>\n",
       "      <td>5</td>\n",
       "      <td>0.319686</td>\n",
       "    </tr>\n",
       "  </tbody>\n",
       "</table>\n",
       "<p>2326 rows × 19 columns</p>\n",
       "</div>"
      ],
      "text/plain": [
       "      customer_id  gender age_group state job_industry_category  \\\n",
       "0               1  Female       >70   NSW                Health   \n",
       "1               2    Male     40-50   NSW    Financial Services   \n",
       "2               9  Female     50-60   NSW           Argiculture   \n",
       "3              12    Male     20-30   QLD         Manufacturing   \n",
       "4              13    Male     60-70   VIC    Financial Services   \n",
       "...           ...     ...       ...   ...                   ...   \n",
       "2321         3493    Male     60-70   NSW                Health   \n",
       "2322         3494    Male     20-30   NSW           Argiculture   \n",
       "2323         3495  Female     30-40   NSW    Financial Services   \n",
       "2324         3496    Male     30-40   NSW         Manufacturing   \n",
       "2325         3497  Female     30-40   VIC         Manufacturing   \n",
       "\n",
       "                                 job_title  online_order order_status  \\\n",
       "0                      Executive Secretary           0.0     Approved   \n",
       "1                   Administrative Officer           1.0     Approved   \n",
       "2     Business Systems Development Analyst           0.0     Approved   \n",
       "3                   Nuclear Power Engineer           0.0     Approved   \n",
       "4                              Developer I           0.0     Approved   \n",
       "...                                    ...           ...          ...   \n",
       "2321                  Research Assistant I           0.0     Approved   \n",
       "2322             Account Representative IV           1.0     Approved   \n",
       "2323                        Programmer III           1.0     Approved   \n",
       "2324                                Editor           1.0     Approved   \n",
       "2325           Administrative Assistant IV           1.0     Approved   \n",
       "\n",
       "         wealth_segment           brand product_line product_class  \\\n",
       "0         Mass Customer      OHM Cycles     Standard        medium   \n",
       "1         Mass Customer  Giant Bicycles     Standard        medium   \n",
       "2     Affluent Customer           Solex     Standard        medium   \n",
       "3         Mass Customer  Giant Bicycles     Standard        medium   \n",
       "4        High Net Worth           Solex     Standard        medium   \n",
       "...                 ...             ...          ...           ...   \n",
       "2321     High Net Worth  Giant Bicycles     Standard        medium   \n",
       "2322     High Net Worth  Giant Bicycles         Road        medium   \n",
       "2323     High Net Worth  Giant Bicycles     Standard          high   \n",
       "2324      Mass Customer           Solex     Standard        medium   \n",
       "2325  Affluent Customer  Giant Bicycles     Standard        medium   \n",
       "\n",
       "     product_size  tenure tenure_period  bikes_purchased valuation_category  \\\n",
       "0          medium    11.0         10-15               93                 >9   \n",
       "1          medium    16.0           >15               81                 >9   \n",
       "2           large     8.0          5-10               97                 >9   \n",
       "3           large     8.0          5-10               58                3-6   \n",
       "4          medium     8.0          5-10               38                6-9   \n",
       "...           ...     ...           ...              ...                ...   \n",
       "2321        large    18.0           >15               30                 >9   \n",
       "2322       medium     1.0            <5               72                 >9   \n",
       "2323       medium     8.0          5-10               57                 >9   \n",
       "2324       medium    19.0           >15               99                 >9   \n",
       "2325       medium    18.0           >15               73                3-6   \n",
       "\n",
       "      property_valuation  product_margin  \n",
       "0                     10        0.469210  \n",
       "1                     10        0.319686  \n",
       "2                     12        0.308960  \n",
       "3                      4        0.678676  \n",
       "4                      6        0.493706  \n",
       "...                  ...             ...  \n",
       "2321                  10        0.598097  \n",
       "2322                  10        0.460913  \n",
       "2323                   9        0.400000  \n",
       "2324                   9        0.828737  \n",
       "2325                   5        0.319686  \n",
       "\n",
       "[2326 rows x 19 columns]"
      ]
     },
     "execution_count": 256,
     "metadata": {},
     "output_type": "execute_result"
    }
   ],
   "source": [
    "# Make copy of the data\n",
    "regression_model_data=clean_data.copy()\n",
    "regression_model_data"
   ]
  },
  {
   "cell_type": "code",
   "execution_count": 257,
   "metadata": {},
   "outputs": [],
   "source": [
    "# I want to detertime customer demographic and product characteristics that influences bike purchase and identify \n",
    "# and target customers based on their demographic attributes\n",
    "# So since only less tha 1% of the customer did not buy bikes, it makes this a regression problem"
   ]
  },
  {
   "cell_type": "code",
   "execution_count": 258,
   "metadata": {},
   "outputs": [
    {
     "data": {
      "text/plain": [
       "0       93\n",
       "1       81\n",
       "2       97\n",
       "3       58\n",
       "4       38\n",
       "        ..\n",
       "2321    30\n",
       "2322    72\n",
       "2323    57\n",
       "2324    99\n",
       "2325    73\n",
       "Name: bikes_purchased, Length: 2326, dtype: int64"
      ]
     },
     "execution_count": 258,
     "metadata": {},
     "output_type": "execute_result"
    }
   ],
   "source": [
    "# Define and the target variable\n",
    "target_y = regression_model_data['bikes_purchased']\n",
    "target_y\n"
   ]
  },
  {
   "cell_type": "code",
   "execution_count": 259,
   "metadata": {},
   "outputs": [
    {
     "data": {
      "text/html": [
       "<div>\n",
       "<style scoped>\n",
       "    .dataframe tbody tr th:only-of-type {\n",
       "        vertical-align: middle;\n",
       "    }\n",
       "\n",
       "    .dataframe tbody tr th {\n",
       "        vertical-align: top;\n",
       "    }\n",
       "\n",
       "    .dataframe thead th {\n",
       "        text-align: right;\n",
       "    }\n",
       "</style>\n",
       "<table border=\"1\" class=\"dataframe\">\n",
       "  <thead>\n",
       "    <tr style=\"text-align: right;\">\n",
       "      <th></th>\n",
       "      <th>gender</th>\n",
       "      <th>age_group</th>\n",
       "      <th>state</th>\n",
       "      <th>job_industry_category</th>\n",
       "      <th>job_title</th>\n",
       "      <th>online_order</th>\n",
       "      <th>order_status</th>\n",
       "      <th>wealth_segment</th>\n",
       "      <th>brand</th>\n",
       "      <th>product_line</th>\n",
       "      <th>product_class</th>\n",
       "      <th>product_size</th>\n",
       "      <th>tenure</th>\n",
       "      <th>property_valuation</th>\n",
       "      <th>product_margin</th>\n",
       "    </tr>\n",
       "  </thead>\n",
       "  <tbody>\n",
       "    <tr>\n",
       "      <th>0</th>\n",
       "      <td>Female</td>\n",
       "      <td>&gt;70</td>\n",
       "      <td>NSW</td>\n",
       "      <td>Health</td>\n",
       "      <td>Executive Secretary</td>\n",
       "      <td>0.0</td>\n",
       "      <td>Approved</td>\n",
       "      <td>Mass Customer</td>\n",
       "      <td>OHM Cycles</td>\n",
       "      <td>Standard</td>\n",
       "      <td>medium</td>\n",
       "      <td>medium</td>\n",
       "      <td>11.0</td>\n",
       "      <td>10</td>\n",
       "      <td>0.469210</td>\n",
       "    </tr>\n",
       "    <tr>\n",
       "      <th>1</th>\n",
       "      <td>Male</td>\n",
       "      <td>40-50</td>\n",
       "      <td>NSW</td>\n",
       "      <td>Financial Services</td>\n",
       "      <td>Administrative Officer</td>\n",
       "      <td>1.0</td>\n",
       "      <td>Approved</td>\n",
       "      <td>Mass Customer</td>\n",
       "      <td>Giant Bicycles</td>\n",
       "      <td>Standard</td>\n",
       "      <td>medium</td>\n",
       "      <td>medium</td>\n",
       "      <td>16.0</td>\n",
       "      <td>10</td>\n",
       "      <td>0.319686</td>\n",
       "    </tr>\n",
       "    <tr>\n",
       "      <th>2</th>\n",
       "      <td>Female</td>\n",
       "      <td>50-60</td>\n",
       "      <td>NSW</td>\n",
       "      <td>Argiculture</td>\n",
       "      <td>Business Systems Development Analyst</td>\n",
       "      <td>0.0</td>\n",
       "      <td>Approved</td>\n",
       "      <td>Affluent Customer</td>\n",
       "      <td>Solex</td>\n",
       "      <td>Standard</td>\n",
       "      <td>medium</td>\n",
       "      <td>large</td>\n",
       "      <td>8.0</td>\n",
       "      <td>12</td>\n",
       "      <td>0.308960</td>\n",
       "    </tr>\n",
       "    <tr>\n",
       "      <th>3</th>\n",
       "      <td>Male</td>\n",
       "      <td>20-30</td>\n",
       "      <td>QLD</td>\n",
       "      <td>Manufacturing</td>\n",
       "      <td>Nuclear Power Engineer</td>\n",
       "      <td>0.0</td>\n",
       "      <td>Approved</td>\n",
       "      <td>Mass Customer</td>\n",
       "      <td>Giant Bicycles</td>\n",
       "      <td>Standard</td>\n",
       "      <td>medium</td>\n",
       "      <td>large</td>\n",
       "      <td>8.0</td>\n",
       "      <td>4</td>\n",
       "      <td>0.678676</td>\n",
       "    </tr>\n",
       "    <tr>\n",
       "      <th>4</th>\n",
       "      <td>Male</td>\n",
       "      <td>60-70</td>\n",
       "      <td>VIC</td>\n",
       "      <td>Financial Services</td>\n",
       "      <td>Developer I</td>\n",
       "      <td>0.0</td>\n",
       "      <td>Approved</td>\n",
       "      <td>High Net Worth</td>\n",
       "      <td>Solex</td>\n",
       "      <td>Standard</td>\n",
       "      <td>medium</td>\n",
       "      <td>medium</td>\n",
       "      <td>8.0</td>\n",
       "      <td>6</td>\n",
       "      <td>0.493706</td>\n",
       "    </tr>\n",
       "    <tr>\n",
       "      <th>...</th>\n",
       "      <td>...</td>\n",
       "      <td>...</td>\n",
       "      <td>...</td>\n",
       "      <td>...</td>\n",
       "      <td>...</td>\n",
       "      <td>...</td>\n",
       "      <td>...</td>\n",
       "      <td>...</td>\n",
       "      <td>...</td>\n",
       "      <td>...</td>\n",
       "      <td>...</td>\n",
       "      <td>...</td>\n",
       "      <td>...</td>\n",
       "      <td>...</td>\n",
       "      <td>...</td>\n",
       "    </tr>\n",
       "    <tr>\n",
       "      <th>2321</th>\n",
       "      <td>Male</td>\n",
       "      <td>60-70</td>\n",
       "      <td>NSW</td>\n",
       "      <td>Health</td>\n",
       "      <td>Research Assistant I</td>\n",
       "      <td>0.0</td>\n",
       "      <td>Approved</td>\n",
       "      <td>High Net Worth</td>\n",
       "      <td>Giant Bicycles</td>\n",
       "      <td>Standard</td>\n",
       "      <td>medium</td>\n",
       "      <td>large</td>\n",
       "      <td>18.0</td>\n",
       "      <td>10</td>\n",
       "      <td>0.598097</td>\n",
       "    </tr>\n",
       "    <tr>\n",
       "      <th>2322</th>\n",
       "      <td>Male</td>\n",
       "      <td>20-30</td>\n",
       "      <td>NSW</td>\n",
       "      <td>Argiculture</td>\n",
       "      <td>Account Representative IV</td>\n",
       "      <td>1.0</td>\n",
       "      <td>Approved</td>\n",
       "      <td>High Net Worth</td>\n",
       "      <td>Giant Bicycles</td>\n",
       "      <td>Road</td>\n",
       "      <td>medium</td>\n",
       "      <td>medium</td>\n",
       "      <td>1.0</td>\n",
       "      <td>10</td>\n",
       "      <td>0.460913</td>\n",
       "    </tr>\n",
       "    <tr>\n",
       "      <th>2323</th>\n",
       "      <td>Female</td>\n",
       "      <td>30-40</td>\n",
       "      <td>NSW</td>\n",
       "      <td>Financial Services</td>\n",
       "      <td>Programmer III</td>\n",
       "      <td>1.0</td>\n",
       "      <td>Approved</td>\n",
       "      <td>High Net Worth</td>\n",
       "      <td>Giant Bicycles</td>\n",
       "      <td>Standard</td>\n",
       "      <td>high</td>\n",
       "      <td>medium</td>\n",
       "      <td>8.0</td>\n",
       "      <td>9</td>\n",
       "      <td>0.400000</td>\n",
       "    </tr>\n",
       "    <tr>\n",
       "      <th>2324</th>\n",
       "      <td>Male</td>\n",
       "      <td>30-40</td>\n",
       "      <td>NSW</td>\n",
       "      <td>Manufacturing</td>\n",
       "      <td>Editor</td>\n",
       "      <td>1.0</td>\n",
       "      <td>Approved</td>\n",
       "      <td>Mass Customer</td>\n",
       "      <td>Solex</td>\n",
       "      <td>Standard</td>\n",
       "      <td>medium</td>\n",
       "      <td>medium</td>\n",
       "      <td>19.0</td>\n",
       "      <td>9</td>\n",
       "      <td>0.828737</td>\n",
       "    </tr>\n",
       "    <tr>\n",
       "      <th>2325</th>\n",
       "      <td>Female</td>\n",
       "      <td>30-40</td>\n",
       "      <td>VIC</td>\n",
       "      <td>Manufacturing</td>\n",
       "      <td>Administrative Assistant IV</td>\n",
       "      <td>1.0</td>\n",
       "      <td>Approved</td>\n",
       "      <td>Affluent Customer</td>\n",
       "      <td>Giant Bicycles</td>\n",
       "      <td>Standard</td>\n",
       "      <td>medium</td>\n",
       "      <td>medium</td>\n",
       "      <td>18.0</td>\n",
       "      <td>5</td>\n",
       "      <td>0.319686</td>\n",
       "    </tr>\n",
       "  </tbody>\n",
       "</table>\n",
       "<p>2326 rows × 15 columns</p>\n",
       "</div>"
      ],
      "text/plain": [
       "      gender age_group state job_industry_category  \\\n",
       "0     Female       >70   NSW                Health   \n",
       "1       Male     40-50   NSW    Financial Services   \n",
       "2     Female     50-60   NSW           Argiculture   \n",
       "3       Male     20-30   QLD         Manufacturing   \n",
       "4       Male     60-70   VIC    Financial Services   \n",
       "...      ...       ...   ...                   ...   \n",
       "2321    Male     60-70   NSW                Health   \n",
       "2322    Male     20-30   NSW           Argiculture   \n",
       "2323  Female     30-40   NSW    Financial Services   \n",
       "2324    Male     30-40   NSW         Manufacturing   \n",
       "2325  Female     30-40   VIC         Manufacturing   \n",
       "\n",
       "                                 job_title  online_order order_status  \\\n",
       "0                      Executive Secretary           0.0     Approved   \n",
       "1                   Administrative Officer           1.0     Approved   \n",
       "2     Business Systems Development Analyst           0.0     Approved   \n",
       "3                   Nuclear Power Engineer           0.0     Approved   \n",
       "4                              Developer I           0.0     Approved   \n",
       "...                                    ...           ...          ...   \n",
       "2321                  Research Assistant I           0.0     Approved   \n",
       "2322             Account Representative IV           1.0     Approved   \n",
       "2323                        Programmer III           1.0     Approved   \n",
       "2324                                Editor           1.0     Approved   \n",
       "2325           Administrative Assistant IV           1.0     Approved   \n",
       "\n",
       "         wealth_segment           brand product_line product_class  \\\n",
       "0         Mass Customer      OHM Cycles     Standard        medium   \n",
       "1         Mass Customer  Giant Bicycles     Standard        medium   \n",
       "2     Affluent Customer           Solex     Standard        medium   \n",
       "3         Mass Customer  Giant Bicycles     Standard        medium   \n",
       "4        High Net Worth           Solex     Standard        medium   \n",
       "...                 ...             ...          ...           ...   \n",
       "2321     High Net Worth  Giant Bicycles     Standard        medium   \n",
       "2322     High Net Worth  Giant Bicycles         Road        medium   \n",
       "2323     High Net Worth  Giant Bicycles     Standard          high   \n",
       "2324      Mass Customer           Solex     Standard        medium   \n",
       "2325  Affluent Customer  Giant Bicycles     Standard        medium   \n",
       "\n",
       "     product_size  tenure  property_valuation  product_margin  \n",
       "0          medium    11.0                  10        0.469210  \n",
       "1          medium    16.0                  10        0.319686  \n",
       "2           large     8.0                  12        0.308960  \n",
       "3           large     8.0                   4        0.678676  \n",
       "4          medium     8.0                   6        0.493706  \n",
       "...           ...     ...                 ...             ...  \n",
       "2321        large    18.0                  10        0.598097  \n",
       "2322       medium     1.0                  10        0.460913  \n",
       "2323       medium     8.0                   9        0.400000  \n",
       "2324       medium    19.0                   9        0.828737  \n",
       "2325       medium    18.0                   5        0.319686  \n",
       "\n",
       "[2326 rows x 15 columns]"
      ]
     },
     "execution_count": 259,
     "metadata": {},
     "output_type": "execute_result"
    }
   ],
   "source": [
    "features_X = regression_model_data.drop(columns=['customer_id', 'tenure_period', 'bikes_purchased', 'valuation_category'])\n",
    "features_X"
   ]
  },
  {
   "cell_type": "markdown",
   "metadata": {},
   "source": [
    "### Preprocessing"
   ]
  },
  {
   "cell_type": "code",
   "execution_count": 260,
   "metadata": {},
   "outputs": [],
   "source": [
    "# Define categorical columns and numerical columns\n",
    "categorical_features = ['gender', 'age_group','state', 'job_industry_category','job_title', \n",
    "                    'order_status', 'wealth_segment', 'brand', 'product_line', \n",
    "                     'product_class', 'product_size'] #'tenure_period', 'valuation_category',\n",
    "\n",
    "numerical_features = ['product_margin', 'property_valuation', 'tenure'] \n",
    "\n",
    "# Combine preprocessing steps for numerical columns\n",
    "preprocessor = ColumnTransformer(\n",
    "    transformers=[\n",
    "        ('num', StandardScaler(), numerical_features),\n",
    "        ('cat', OneHotEncoder(handle_unknown='ignore'), categorical_features)\n",
    "    ])"
   ]
  },
  {
   "cell_type": "code",
   "execution_count": 261,
   "metadata": {},
   "outputs": [],
   "source": [
    "# Split the data into training and testing sets\n",
    "X_train, X_test, y_train, y_test = train_test_split(features_X, target_y, test_size=0.3, random_state=42)"
   ]
  },
  {
   "cell_type": "markdown",
   "metadata": {},
   "source": [
    "### Define Pipelines and Train the model"
   ]
  },
  {
   "cell_type": "markdown",
   "metadata": {},
   "source": [
    "##### (a) Random Forest\n",
    "- build a model to predict the likelihood of bike purchases based on demographic and product characteristics"
   ]
  },
  {
   "cell_type": "code",
   "execution_count": 262,
   "metadata": {},
   "outputs": [
    {
     "name": "stdout",
     "output_type": "stream",
     "text": [
      "Mean Absolute Error (MAE): 25.137363896848132\n",
      "Mean Squared Error (MSE): 864.2617790830944\n",
      "Root Mean Squared Error (RMSE): 432.1308895415472\n",
      "R_squraed (R_Squared): -0.05599140329910224\n"
     ]
    }
   ],
   "source": [
    "# Create a pipeline with RandomForestClassifier\n",
    "model_ran = Pipeline(steps=[\n",
    "    ('preprocessor', preprocessor),\n",
    "    ('regressor', RandomForestRegressor(n_estimators=100, random_state=42))\n",
    "])\n",
    "\n",
    "# Train the model\n",
    "model_ran.fit(X_train, y_train)\n",
    "\n",
    "# Predict on the test set\n",
    "y_pred = model_ran.predict(X_test)\n",
    "\n",
    "# Evaluate the model\n",
    "mae=mean_absolute_error(y_test,y_pred)\n",
    "mse=mean_squared_error(y_test, y_pred)\n",
    "rmse=mse*0.5\n",
    "r2 = r2_score(y_test, y_pred)\n",
    "\n",
    "print(f'Mean Absolute Error (MAE): {mae}')\n",
    "print(f'Mean Squared Error (MSE): {mse}')\n",
    "print(f'Root Mean Squared Error (RMSE): {rmse}')\n",
    "print(f'R_squraed (R_Squared): {r2}')"
   ]
  },
  {
   "cell_type": "code",
   "execution_count": 263,
   "metadata": {},
   "outputs": [
    {
     "data": {
      "text/plain": [
       "\"# Predict prob for the whole data including training and testing sets\\npredicted_probabilities=model_ran.predict_proba(features_X)[:,1]\\n\\n# Add predicted prob to the original dataset\\ndata['predicted_probabilities']=predicted_probabilities\\n\\n# Set threshold for the targeted customers\\nthreshold=0.9\\n\\n# Identify customers to the target\\ntarget_customers=data[data['predicted_probabilities']>threshold]\\n\\n# Sort customers by their predicted probabilities\\ntarget_customers=target_customers.sort_values(by='customer_id', ascending=True)\\n\\ntarget_customers[['customer_id', 'predicted_probabilities']]\""
      ]
     },
     "execution_count": 263,
     "metadata": {},
     "output_type": "execute_result"
    }
   ],
   "source": [
    "'''# Predict prob for the whole data including training and testing sets\n",
    "predicted_probabilities=model_ran.predict_proba(features_X)[:,1]\n",
    "\n",
    "# Add predicted prob to the original dataset\n",
    "data['predicted_probabilities']=predicted_probabilities\n",
    "\n",
    "# Set threshold for the targeted customers\n",
    "threshold=0.9\n",
    "\n",
    "# Identify customers to the target\n",
    "target_customers=data[data['predicted_probabilities']>threshold]\n",
    "\n",
    "# Sort customers by their predicted probabilities\n",
    "target_customers=target_customers.sort_values(by='customer_id', ascending=True)\n",
    "\n",
    "target_customers[['customer_id', 'predicted_probabilities']]'''"
   ]
  },
  {
   "cell_type": "markdown",
   "metadata": {},
   "source": [
    "##### (b) Linear Regression"
   ]
  },
  {
   "cell_type": "markdown",
   "metadata": {},
   "source": [
    "- Logistic regression is used for classification tasks, (not regression). \n",
    "- Since we want to determine which demographic and product characteristics influences bike purchases or make customer to purchase the bike, logistic regression is appropriate."
   ]
  },
  {
   "cell_type": "code",
   "execution_count": 264,
   "metadata": {},
   "outputs": [
    {
     "name": "stdout",
     "output_type": "stream",
     "text": [
      "MAE: 25.39754128397002\n",
      "MSE: 923.461486970636\n",
      "RMSE: 30.388509127146005\n",
      "R-squared: -0.16088389399409242\n"
     ]
    }
   ],
   "source": [
    "# Define the model pipeline\n",
    "model_lin = Pipeline(steps=[\n",
    "    ('preprocessor', preprocessor),\n",
    "    ('regressor', LinearRegression())\n",
    "])\n",
    "\n",
    "# Split the data into training and testing sets\n",
    "X_train, X_test, y_train, y_test = train_test_split(features_X, target_y, test_size=0.2, random_state=42)\n",
    "\n",
    "# Train the model\n",
    "model_lin.fit(X_train, y_train)\n",
    "\n",
    "# Make predictions\n",
    "y_pred = model_lin.predict(X_test)\n",
    "\n",
    "# Evaluate the model\n",
    "mae = mean_absolute_error(y_test, y_pred)\n",
    "mse = mean_squared_error(y_test, y_pred)\n",
    "rmse = mean_squared_error(y_test, y_pred, squared=False)\n",
    "r2 = r2_score(y_test, y_pred)\n",
    "\n",
    "print(f'MAE: {mae}')\n",
    "print(f'MSE: {mse}')\n",
    "print(f'RMSE: {rmse}')\n",
    "print(f'R-squared: {r2}')\n"
   ]
  },
  {
   "cell_type": "code",
   "execution_count": 265,
   "metadata": {},
   "outputs": [
    {
     "data": {
      "text/plain": [
       "\"# Predict prob for the whole data including training and testing sets\\npredicted_probabilities=model_log.predict_proba(features_X)[:,1]\\n\\n# Add predicted prob to the original dataset\\ndata['predicted_probabilities']=predicted_probabilities\\n\\n# Set threshold for the targeted customers\\nthreshold=0.9\\n\\n# Identify customers to the target\\ntarget_customers=data[data['predicted_probabilities']>threshold]\\n\\n# Sort customers by their predicted probabilities\\ntarget_customers=target_customers.sort_values(by='customer_id', ascending=True)\\n\\ntarget_customers[['customer_id', 'predicted_probabilities', 'gender', 'tenure_period','age_group','state', 'job_industry_category','job_title', \\n                    'order_status', 'wealth_segment', 'brand', 'product_line', 'valuation_category', 'product_class', 'product_size', 'product_margin']]\""
      ]
     },
     "execution_count": 265,
     "metadata": {},
     "output_type": "execute_result"
    }
   ],
   "source": [
    "'''# Predict prob for the whole data including training and testing sets\n",
    "predicted_probabilities=model_log.predict_proba(features_X)[:,1]\n",
    "\n",
    "# Add predicted prob to the original dataset\n",
    "data['predicted_probabilities']=predicted_probabilities\n",
    "\n",
    "# Set threshold for the targeted customers\n",
    "threshold=0.9\n",
    "\n",
    "# Identify customers to the target\n",
    "target_customers=data[data['predicted_probabilities']>threshold]\n",
    "\n",
    "# Sort customers by their predicted probabilities\n",
    "target_customers=target_customers.sort_values(by='customer_id', ascending=True)\n",
    "\n",
    "target_customers[['customer_id', 'predicted_probabilities', 'gender', 'tenure_period','age_group','state', 'job_industry_category','job_title', \n",
    "                    'order_status', 'wealth_segment', 'brand', 'product_line', 'valuation_category', 'product_class', 'product_size', 'product_margin']]'''"
   ]
  },
  {
   "cell_type": "markdown",
   "metadata": {},
   "source": [
    "##### (c) Decission Tree"
   ]
  },
  {
   "cell_type": "code",
   "execution_count": 266,
   "metadata": {},
   "outputs": [
    {
     "name": "stdout",
     "output_type": "stream",
     "text": [
      "Mean Absolute Error (MAE): 31.489270386266096\n",
      "Mean Squared Error (MSE): 1493.2875536480688\n",
      "Root Mean Squared Error (RMSE): 746.6437768240344\n",
      "R_squraed (R_Squared): -0.8772125254715737\n"
     ]
    }
   ],
   "source": [
    "# Create a pipeline with DecisionTreeClassifier\n",
    "model_det = Pipeline(steps=[\n",
    "    ('preprocessor', preprocessor),\n",
    "    ('regressor', DecisionTreeRegressor(random_state=42))\n",
    "])\n",
    "\n",
    "# Split the data into training and testing sets\n",
    "X_train, X_test, y_train, y_test = train_test_split(features_X, target_y, test_size=0.2, random_state=42)\n",
    "\n",
    "# Train the model\n",
    "model_det.fit(X_train, y_train)\n",
    "\n",
    "# Predict on the test set\n",
    "y_pred = model_det.predict(X_test)\n",
    "\n",
    "# Evaluate the model\n",
    "mae=mean_absolute_error(y_test,y_pred)\n",
    "mse=mean_squared_error(y_test, y_pred)\n",
    "rmse=mse*0.5\n",
    "r2 = r2_score(y_test, y_pred)\n",
    "\n",
    "print(f'Mean Absolute Error (MAE): {mae}')\n",
    "print(f'Mean Squared Error (MSE): {mse}')\n",
    "print(f'Root Mean Squared Error (RMSE): {rmse}')\n",
    "print(f'R_squraed (R_Squared): {r2}')"
   ]
  },
  {
   "cell_type": "markdown",
   "metadata": {},
   "source": [
    "### STOP"
   ]
  },
  {
   "cell_type": "code",
   "execution_count": 267,
   "metadata": {},
   "outputs": [
    {
     "ename": "NameError",
     "evalue": "name 'm' is not defined",
     "output_type": "error",
     "traceback": [
      "\u001b[1;31m---------------------------------------------------------------------------\u001b[0m",
      "\u001b[1;31mNameError\u001b[0m                                 Traceback (most recent call last)",
      "Cell \u001b[1;32mIn[267], line 1\u001b[0m\n\u001b[1;32m----> 1\u001b[0m \u001b[38;5;28mprint\u001b[39m(\u001b[43mm\u001b[49m)\n",
      "\u001b[1;31mNameError\u001b[0m: name 'm' is not defined"
     ]
    }
   ],
   "source": [
    "print(m)"
   ]
  },
  {
   "cell_type": "markdown",
   "metadata": {},
   "source": [
    "##### DECISSION TREE"
   ]
  },
  {
   "cell_type": "code",
   "execution_count": null,
   "metadata": {},
   "outputs": [],
   "source": [
    "'''# Preprocessing pipeline for numerical data\n",
    "numerical_transformer = StandardScaler()\n",
    "\n",
    "# Preprocessing pipeline for categorical data\n",
    "#categorical_transformer = OneHotEncoder(handle_unknown='ignore')\n",
    "\n",
    "# Combine preprocessing steps for numerical columns\n",
    "preprocessor = ColumnTransformer(\n",
    "    transformers=[\n",
    "        ('num', numerical_transformer, numerical_features)\n",
    "    ],\n",
    "    remainder='passthrough'  # Keep all other columns as they are (already preprocessed/one-hot encoded)\n",
    ")\n",
    "\n",
    "\n",
    "\n",
    "# Visualize feature importances\n",
    "# Get feature importances from the trained model\n",
    "feature_importances = model.named_steps['classifier'].feature_importances_\n",
    "\n",
    "# Get feature names (numerical + already one-hot encoded features)\n",
    "feature_names = numerical_features + [col for col in X.columns if col not in numerical_features]\n",
    "\n",
    "# Create a DataFrame for visualization\n",
    "importance_df = pd.DataFrame({'Feature': feature_names, 'Importance': feature_importances})\n",
    "\n",
    "# Sort the DataFrame by importance\n",
    "importance_df = importance_df.sort_values(by='Importance', ascending=False)\n",
    "\n",
    "# Plot the feature importances\n",
    "plt.figure(figsize=(10, 38))\n",
    "plt.barh(importance_df['Feature'], importance_df['Importance'])\n",
    "plt.xlabel('Feature Importance')\n",
    "plt.ylabel('Feature')\n",
    "plt.title('Feature Importances in Decision Tree Classifier')\n",
    "plt.gca().invert_yaxis()\n",
    "plt.show()'''"
   ]
  },
  {
   "cell_type": "markdown",
   "metadata": {},
   "source": [
    "##### LOGISTIC REGRESSION\n"
   ]
  },
  {
   "cell_type": "code",
   "execution_count": null,
   "metadata": {},
   "outputs": [],
   "source": [
    "'''# Interpret the model coefficients\n",
    "\n",
    "# Get the feature names after one-hot encoding and scaling\n",
    "feature_names = numerical_features + [col for col in X.columns if col not in numerical_features]\n",
    "\n",
    "# Get the coefficients from the logistic regression model\n",
    "coefficients = model.named_steps['classifier'].coef_[0]\n",
    "\n",
    "# Create a DataFrame for the coefficients\n",
    "coef_df = pd.DataFrame({\n",
    "    'Feature': feature_names,\n",
    "    'Coefficient': coefficients\n",
    "})\n",
    "\n",
    "# Sort by absolute value of the coefficient to see the most influential features\n",
    "coef_df['Absolute Coefficient'] = coef_df['Coefficient'].abs()\n",
    "coef_df = coef_df.sort_values(by='Absolute Coefficient', ascending=False)\n",
    "\n",
    "#coef_df.to_csv('coj.csv',index=False)\n",
    "\n",
    "print(coef_df)'''"
   ]
  },
  {
   "cell_type": "code",
   "execution_count": null,
   "metadata": {},
   "outputs": [],
   "source": [
    "'''# Filter coefficients for negative contribution to bike purchases\n",
    "negative_coef_df = coef_df[coef_df['Coefficient'] < 0]\n",
    "\n",
    "# Sort coefficients in ascending order (from most negative to least negative)\n",
    "negative_coef_df = negative_coef_df.sort_values(by='Coefficient', ascending=False)\n",
    "\n",
    "# Plot the coefficients for negative contribution to bike purchases\n",
    "plt.figure(figsize=(10, 36))\n",
    "plt.barh(negative_coef_df['Feature'], negative_coef_df['Coefficient'], color='salmon')\n",
    "plt.xlabel('Coefficient')\n",
    "plt.title('Logistic Regression Coefficients for Negative Contribution to Bike Purchases (Most Negative to Least Negative)')\n",
    "plt.grid(axis='x')\n",
    "plt.show()'''"
   ]
  },
  {
   "cell_type": "code",
   "execution_count": null,
   "metadata": {},
   "outputs": [],
   "source": [
    "'''# Filter coefficients for positive influence\n",
    "positive_coef_df = coef_df[coef_df['Coefficient'] > 0]\n",
    "\n",
    "# Sort coefficients in descending order\n",
    "positive_coef_df = positive_coef_df.sort_values(by='Coefficient', ascending=True)\n",
    "\n",
    "# Plot the coefficients for positive influence\n",
    "plt.figure(figsize=(10, 36))\n",
    "plt.barh(positive_coef_df['Feature'], positive_coef_df['Coefficient'], color='skyblue')\n",
    "plt.xlabel('Coefficient')\n",
    "plt.title('Logistic Regression Coefficients for Positive Influence')\n",
    "plt.grid(axis='x')\n",
    "plt.show()'''"
   ]
  },
  {
   "cell_type": "markdown",
   "metadata": {},
   "source": [
    "### REGRESSION"
   ]
  },
  {
   "cell_type": "code",
   "execution_count": null,
   "metadata": {},
   "outputs": [],
   "source": [
    "# make copy\n",
    "reg_data_model=clean_data.copy()\n",
    "reg_data_model"
   ]
  },
  {
   "cell_type": "code",
   "execution_count": null,
   "metadata": {},
   "outputs": [],
   "source": [
    "# Define numerical and categorical features\n",
    "numerical_features = ['product_margin'] # 'property_valuation', 'tenure'\n",
    "categorical_features = ['customer_id','gender','age_group','state','job_industry_category','job_title','online_order','order_status','wealth_segment','brand','product_line','product_class','product_size','tenure_period','valuation_category']\n",
    "\n",
    "'''[col for col in reg_data_model.columns if col != 'past_3_years_bike_related_purchases' \n",
    "                        and col != 'product_margin'\n",
    "                        and col !='tenure'\n",
    "                        and col !='property_valuation']'''"
   ]
  },
  {
   "cell_type": "code",
   "execution_count": null,
   "metadata": {},
   "outputs": [],
   "source": [
    "# Select relevant features and the target variable\n",
    "X = reg_data_model.drop(columns=['past_3_years_bike_related_purchases',  'property_valuation', 'tenure'])\n",
    "y = reg_data_model['past_3_years_bike_related_purchases']"
   ]
  },
  {
   "cell_type": "code",
   "execution_count": null,
   "metadata": {},
   "outputs": [],
   "source": [
    "from sklearn.metrics import mean_absolute_error, mean_squared_error, r2_score\n",
    "# Preprocessing pipeline for numerical data\n",
    "numerical_transformer = StandardScaler()\n",
    "\n",
    "# Preprocessing pipeline for categorical data\n",
    "categorical_transformer = OneHotEncoder(handle_unknown='ignore')\n",
    "\n",
    "# Combine preprocessing steps for specific columns\n",
    "preprocessor = ColumnTransformer(\n",
    "    transformers=[\n",
    "        ('num', numerical_transformer, numerical_features),\n",
    "        ('cat', categorical_transformer, categorical_features)\n",
    "    ])\n",
    "\n",
    "# Define the model pipeline\n",
    "model = Pipeline(steps=[\n",
    "    ('preprocessor', preprocessor),\n",
    "    ('regressor', LinearRegression())\n",
    "])\n",
    "\n",
    "# Split the data into training and testing sets\n",
    "X_train, X_test, y_train, y_test = train_test_split(X, y, test_size=0.2, random_state=42)\n",
    "\n",
    "# Train the model\n",
    "model.fit(X_train, y_train)\n",
    "\n",
    "# Make predictions\n",
    "y_pred = model.predict(X_test)\n",
    "\n",
    "# Evaluate the model\n",
    "mae = mean_absolute_error(y_test, y_pred)\n",
    "mse = mean_squared_error(y_test, y_pred)\n",
    "rmse = mean_squared_error(y_test, y_pred, squared=False)\n",
    "r2 = r2_score(y_test, y_pred)\n",
    "\n",
    "print(f'MAE: {mae}')\n",
    "print(f'MSE: {mse}')\n",
    "print(f'RMSE: {rmse}')\n",
    "print(f'R-squared: {r2}')\n",
    "\n",
    "# Feature importance\n",
    "# Get the feature names from the preprocessor\n",
    "num_features = preprocessor.transformers_[0][2]\n",
    "cat_features = preprocessor.transformers_[1][1].get_feature_names_out(categorical_features)\n",
    "all_features = num_features + cat_features.tolist()\n",
    "\n",
    "# Get the coefficients\n",
    "coefficients = model.named_steps['regressor'].coef_\n",
    "\n",
    "# Create a DataFrame for visualization\n",
    "coef_df = pd.DataFrame({'Feature': all_features, 'Coefficient': coefficients})\n",
    "coef_df = coef_df.sort_values(by='Coefficient', ascending=False)\n",
    "\n",
    "# Plot the feature importance\n",
    "plt.figure(figsize=(10, 38))\n",
    "sns.barplot(x='Coefficient', y='Feature', data=coef_df)\n",
    "plt.title('Feature Importance from Linear Regression')\n",
    "plt.xlabel('Coefficient Value')\n",
    "plt.ylabel('Features')\n",
    "plt.show()"
   ]
  },
  {
   "cell_type": "markdown",
   "metadata": {},
   "source": [
    "- Use RandomForestRegressor when your target variable is a continuous value that you need to predict.\n",
    "- Use RandomForestClassifier when your target variable is a categorical label or class."
   ]
  },
  {
   "cell_type": "code",
   "execution_count": null,
   "metadata": {},
   "outputs": [],
   "source": [
    "# make copy\n",
    "ran_data_model=data.copy()"
   ]
  },
  {
   "cell_type": "code",
   "execution_count": null,
   "metadata": {},
   "outputs": [],
   "source": [
    "# Define numerical and categorical features\n",
    "#numerical_features = ['product_margin'] \n",
    "#categorical_features = [col for col in ran_data_model.columns if col != 'past_3_years_bike_related_purchases' and col != 'product_margin']"
   ]
  },
  {
   "cell_type": "code",
   "execution_count": null,
   "metadata": {},
   "outputs": [],
   "source": [
    "# Select relevant features and the target variable\n",
    "X = ran_data_model.drop(columns=['past_3_years_bike_related_purchases',  'property_valuation', 'tenure'])\n",
    "y = ran_data_model['past_3_years_bike_related_purchases']"
   ]
  },
  {
   "cell_type": "code",
   "execution_count": null,
   "metadata": {},
   "outputs": [],
   "source": [
    "# Preprocess data: one-hot encode categorical variables and scale numerical variables\n",
    "preprocessor = ColumnTransformer(\n",
    "    transformers=[\n",
    "        ('num', StandardScaler(), numerical_features),\n",
    "        ('cat', OneHotEncoder(handle_unknown='ignore'), categorical_features)\n",
    "    ])\n",
    "\n",
    "# Define the model pipeline\n",
    "model = Pipeline(steps=[\n",
    "    ('preprocessor', preprocessor),\n",
    "    ('regressor', RandomForestRegressor(n_estimators=100, random_state=42))\n",
    "])\n",
    "\n",
    "# Split the data into training and testing sets\n",
    "X_train, X_test, y_train, y_test = train_test_split(X, y, test_size=0.3, random_state=42)\n",
    "\n",
    "# Train the model\n",
    "model.fit(X_train, y_train)\n",
    "\n",
    "# Evaluate the model\n",
    "r_squared = model.score(X_test, y_test)\n",
    "print(f'R-squared: {r_squared}')\n",
    "\n",
    "# Feature importance\n",
    "# Get the feature names from the preprocessor\n",
    "num_features = preprocessor.transformers_[0][2]\n",
    "cat_features = preprocessor.transformers_[1][1].get_feature_names_out(categorical_features)\n",
    "all_features = num_features + cat_features.tolist()\n",
    "\n",
    "# Get the feature importances\n",
    "importances = model.named_steps['regressor'].feature_importances_\n",
    "\n",
    "# Create a DataFrame for visualization\n",
    "importance_df = pd.DataFrame({'Feature': all_features, 'Importance': importances})\n",
    "\n",
    "# Set a threshold for feature importance\n",
    "threshold = 0.001\n",
    "\n",
    "# Filter features based on the threshold\n",
    "important_features_df = importance_df[importance_df['Importance'] >= threshold]\n",
    "\n",
    "# Sort the important features by their importance\n",
    "important_features_df = important_features_df.sort_values(by='Importance', ascending=False)\n",
    "\n",
    "# Plot the feature importance\n",
    "plt.figure(figsize=(10, 8))\n",
    "sns.barplot(x='Importance', y='Feature', data=important_features_df)\n",
    "plt.title('Feature Importance from Random Forest')\n",
    "plt.xlabel('Importance')\n",
    "plt.ylabel('Features')\n",
    "plt.show()"
   ]
  }
 ],
 "metadata": {
  "kernelspec": {
   "display_name": "uscholar_py3.6_env",
   "language": "python",
   "name": "python3"
  },
  "language_info": {
   "codemirror_mode": {
    "name": "ipython",
    "version": 3
   },
   "file_extension": ".py",
   "mimetype": "text/x-python",
   "name": "python",
   "nbconvert_exporter": "python",
   "pygments_lexer": "ipython3",
   "version": "3.11.5"
  }
 },
 "nbformat": 4,
 "nbformat_minor": 2
}
